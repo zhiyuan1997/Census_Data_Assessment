{
    "metadata": {
        "kernelspec": {
            "name": "python3",
            "display_name": "Python 3.8.0 32-bit"
        },
        "language_info": {
            "name": "python",
            "version": "3.8.0",
            "mimetype": "text/x-python",
            "codemirror_mode": {
                "name": "ipython",
                "version": 3
            },
            "pygments_lexer": "ipython3",
            "nbconvert_exporter": "python",
            "file_extension": ".py"
        },
        "interpreter": {
            "hash": "28f9a8edcbd68d4666ec484ad3bf13cd18d5639bb5bec74f103e4f201991d4b6"
        }
    },
    "nbformat_minor": 2,
    "nbformat": 4,
    "cells": [
        {
            "cell_type": "code",
            "source": [
                "import requests\n",
                "import pandas as pd\n",
                "\n",
                "my_api_key='69d1e6ee1f351abe8845cb100417937d66bfdf9a'"
            ],
            "metadata": {
                "azdata_cell_guid": "1c937d08-b5a6-43d8-9b80-5f16ca3a3cb8"
            },
            "outputs": [],
            "execution_count": 3
        },
        {
            "cell_type": "code",
            "source": [
                "\n",
                "for_expression= \"us:*\"\n",
                "field_list=\"GEO_ID,NAME,NAICS2017,NAICS2017_LABEL,SEX,SEX_LABEL,ETH_GROUP,ETH_GROUP_LABEL,RACE_GROUP,RACE_GROUP_LABEL,VET_GROUP,VET_GROUP_LABEL,EMPSZFI,EMPSZFI_LABEL,YEAR,FIRMPDEMP,FIRMPDEMP_F,RCPPDEMP,RCPPDEMP_F,EMP,EMP_F,PAYANN,PAYANN_F,FIRMPDEMP_S,FIRMPDEMP_S_F,RCPPDEMP_S,RCPPDEMP_S_F,EMP_S,EMP_S_F,PAYANN_S,PAYANN_S_F\"\n",
                "\n",
                "response = requests.get(f'https://api.census.gov/data/2018/abscs?get={field_list}&for={for_expression}&key={my_api_key}')"
            ],
            "metadata": {
                "azdata_cell_guid": "d703d2d4-626f-4944-b05e-ccb83e11a7f0"
            },
            "outputs": [],
            "execution_count": 4
        },
        {
            "cell_type": "code",
            "source": [
                "json_data = response.json()"
            ],
            "metadata": {
                "azdata_cell_guid": "c4318975-b67e-4803-9709-7650e6f1934f"
            },
            "outputs": [],
            "execution_count": 5
        },
        {
            "cell_type": "code",
            "source": [
                "print(len(json_data))"
            ],
            "metadata": {
                "azdata_cell_guid": "69cbc1c7-ef8b-4059-8280-fc664bb7ec48"
            },
            "outputs": [
                {
                    "output_type": "stream",
                    "name": "stdout",
                    "text": [
                        "19459\n"
                    ]
                }
            ],
            "execution_count": 6
        },
        {
            "cell_type": "code",
            "source": [
                "\n",
                "for index, item in enumerate(json_data):\n",
                "    if index < 5:\n",
                "        print(item)\n",
                "    else:\n",
                "        break"
            ],
            "metadata": {
                "azdata_cell_guid": "44266333-53ea-4e97-b82f-857f83dab271"
            },
            "outputs": [
                {
                    "output_type": "stream",
                    "name": "stdout",
                    "text": [
                        "['GEO_ID', 'NAME', 'NAICS2017', 'NAICS2017_LABEL', 'SEX', 'SEX_LABEL', 'ETH_GROUP', 'ETH_GROUP_LABEL', 'RACE_GROUP', 'RACE_GROUP_LABEL', 'VET_GROUP', 'VET_GROUP_LABEL', 'EMPSZFI', 'EMPSZFI_LABEL', 'YEAR', 'FIRMPDEMP', 'FIRMPDEMP_F', 'RCPPDEMP', 'RCPPDEMP_F', 'EMP', 'EMP_F', 'PAYANN', 'PAYANN_F', 'FIRMPDEMP_S', 'FIRMPDEMP_S_F', 'RCPPDEMP_S', 'RCPPDEMP_S_F', 'EMP_S', 'EMP_S_F', 'PAYANN_S', 'PAYANN_S_F', 'us']\n['0100000US', 'United States', '00', 'Total for all sectors', '002', 'Female', '020', 'Hispanic', '00', 'Total', '001', 'Total', '001', 'All firms', '2018', '84496', None, '91103725', None, '722654', None, '21975675', None, '3.0', None, '8.9', None, '7.7', None, '7.0', None, '1']\n['0100000US', 'United States', '00', 'Total for all sectors', '002', 'Female', '020', 'Hispanic', '00', 'Total', '001', 'Total', '611', 'Firms with no employees', '2018', '10036', None, '3233978', None, '0', None, '499996', None, '4.7', None, '19.2', None, '0.0', None, '13.5', None, '1']\n['0100000US', 'United States', '00', 'Total for all sectors', '002', 'Female', '020', 'Hispanic', '00', 'Total', '001', 'Total', '612', 'Firms with 1 to 4 employees', '2018', '47105', None, '15792524', None, '92631', None, '2808773', None, '4.7', None, '8.2', None, '4.8', None, '7.4', None, '1']\n['0100000US', 'United States', '00', 'Total for all sectors', '002', 'Female', '020', 'Hispanic', '00', 'Total', '001', 'Total', '620', 'Firms with 5 to 9 employees', '2018', '12523', None, '10688294', None, '83449', None, '2601817', None, '5.9', None, '4.3', None, '5.6', None, '6.3', None, '1']\n"
                    ]
                }
            ],
            "execution_count": 7
        },
        {
            "cell_type": "code",
            "source": [
                "\n",
                "headers = json_data[0]\n",
                "\n",
                "json_data.remove(json_data[0])\n",
                "print(headers)"
            ],
            "metadata": {
                "azdata_cell_guid": "763d1a34-d073-4da9-ab4f-0e2e67161aa3"
            },
            "outputs": [
                {
                    "output_type": "stream",
                    "name": "stdout",
                    "text": [
                        "['GEO_ID', 'NAME', 'NAICS2017', 'NAICS2017_LABEL', 'SEX', 'SEX_LABEL', 'ETH_GROUP', 'ETH_GROUP_LABEL', 'RACE_GROUP', 'RACE_GROUP_LABEL', 'VET_GROUP', 'VET_GROUP_LABEL', 'EMPSZFI', 'EMPSZFI_LABEL', 'YEAR', 'FIRMPDEMP', 'FIRMPDEMP_F', 'RCPPDEMP', 'RCPPDEMP_F', 'EMP', 'EMP_F', 'PAYANN', 'PAYANN_F', 'FIRMPDEMP_S', 'FIRMPDEMP_S_F', 'RCPPDEMP_S', 'RCPPDEMP_S_F', 'EMP_S', 'EMP_S_F', 'PAYANN_S', 'PAYANN_S_F', 'us']\n"
                    ]
                }
            ],
            "execution_count": 8
        },
        {
            "cell_type": "code",
            "source": [
                "\n",
                "census_data = pd.DataFrame(json_data)"
            ],
            "metadata": {
                "azdata_cell_guid": "121b78af-7da6-47ef-85d0-dd25facfb7d3"
            },
            "outputs": [],
            "execution_count": 9
        },
        {
            "cell_type": "code",
            "source": [
                "\n",
                "census_data.head()"
            ],
            "metadata": {
                "azdata_cell_guid": "256f4e42-d295-4cc9-be43-c00e7523a329",
                "tags": []
            },
            "outputs": [
                {
                    "output_type": "execute_result",
                    "data": {
                        "text/plain": [
                            "          0              1   2                      3    4       5    6   \\\n",
                            "0  0100000US  United States  00  Total for all sectors  002  Female  020   \n",
                            "1  0100000US  United States  00  Total for all sectors  002  Female  020   \n",
                            "2  0100000US  United States  00  Total for all sectors  002  Female  020   \n",
                            "3  0100000US  United States  00  Total for all sectors  002  Female  020   \n",
                            "4  0100000US  United States  00  Total for all sectors  002  Female  020   \n",
                            "\n",
                            "         7   8      9   ...    22   23    24    25    26   27    28    29  \\\n",
                            "0  Hispanic  00  Total  ...  None  3.0  None   8.9  None  7.7  None   7.0   \n",
                            "1  Hispanic  00  Total  ...  None  4.7  None  19.2  None  0.0  None  13.5   \n",
                            "2  Hispanic  00  Total  ...  None  4.7  None   8.2  None  4.8  None   7.4   \n",
                            "3  Hispanic  00  Total  ...  None  5.9  None   4.3  None  5.6  None   6.3   \n",
                            "4  Hispanic  00  Total  ...  None  6.0  None  16.2  None  6.7  None  10.7   \n",
                            "\n",
                            "     30 31  \n",
                            "0  None  1  \n",
                            "1  None  1  \n",
                            "2  None  1  \n",
                            "3  None  1  \n",
                            "4  None  1  \n",
                            "\n",
                            "[5 rows x 32 columns]"
                        ],
                        "text/html": "<div>\n<style scoped>\n    .dataframe tbody tr th:only-of-type {\n        vertical-align: middle;\n    }\n\n    .dataframe tbody tr th {\n        vertical-align: top;\n    }\n\n    .dataframe thead th {\n        text-align: right;\n    }\n</style>\n<table border=\"1\" class=\"dataframe\">\n  <thead>\n    <tr style=\"text-align: right;\">\n      <th></th>\n      <th>0</th>\n      <th>1</th>\n      <th>2</th>\n      <th>3</th>\n      <th>4</th>\n      <th>5</th>\n      <th>6</th>\n      <th>7</th>\n      <th>8</th>\n      <th>9</th>\n      <th>...</th>\n      <th>22</th>\n      <th>23</th>\n      <th>24</th>\n      <th>25</th>\n      <th>26</th>\n      <th>27</th>\n      <th>28</th>\n      <th>29</th>\n      <th>30</th>\n      <th>31</th>\n    </tr>\n  </thead>\n  <tbody>\n    <tr>\n      <th>0</th>\n      <td>0100000US</td>\n      <td>United States</td>\n      <td>00</td>\n      <td>Total for all sectors</td>\n      <td>002</td>\n      <td>Female</td>\n      <td>020</td>\n      <td>Hispanic</td>\n      <td>00</td>\n      <td>Total</td>\n      <td>...</td>\n      <td>None</td>\n      <td>3.0</td>\n      <td>None</td>\n      <td>8.9</td>\n      <td>None</td>\n      <td>7.7</td>\n      <td>None</td>\n      <td>7.0</td>\n      <td>None</td>\n      <td>1</td>\n    </tr>\n    <tr>\n      <th>1</th>\n      <td>0100000US</td>\n      <td>United States</td>\n      <td>00</td>\n      <td>Total for all sectors</td>\n      <td>002</td>\n      <td>Female</td>\n      <td>020</td>\n      <td>Hispanic</td>\n      <td>00</td>\n      <td>Total</td>\n      <td>...</td>\n      <td>None</td>\n      <td>4.7</td>\n      <td>None</td>\n      <td>19.2</td>\n      <td>None</td>\n      <td>0.0</td>\n      <td>None</td>\n      <td>13.5</td>\n      <td>None</td>\n      <td>1</td>\n    </tr>\n    <tr>\n      <th>2</th>\n      <td>0100000US</td>\n      <td>United States</td>\n      <td>00</td>\n      <td>Total for all sectors</td>\n      <td>002</td>\n      <td>Female</td>\n      <td>020</td>\n      <td>Hispanic</td>\n      <td>00</td>\n      <td>Total</td>\n      <td>...</td>\n      <td>None</td>\n      <td>4.7</td>\n      <td>None</td>\n      <td>8.2</td>\n      <td>None</td>\n      <td>4.8</td>\n      <td>None</td>\n      <td>7.4</td>\n      <td>None</td>\n      <td>1</td>\n    </tr>\n    <tr>\n      <th>3</th>\n      <td>0100000US</td>\n      <td>United States</td>\n      <td>00</td>\n      <td>Total for all sectors</td>\n      <td>002</td>\n      <td>Female</td>\n      <td>020</td>\n      <td>Hispanic</td>\n      <td>00</td>\n      <td>Total</td>\n      <td>...</td>\n      <td>None</td>\n      <td>5.9</td>\n      <td>None</td>\n      <td>4.3</td>\n      <td>None</td>\n      <td>5.6</td>\n      <td>None</td>\n      <td>6.3</td>\n      <td>None</td>\n      <td>1</td>\n    </tr>\n    <tr>\n      <th>4</th>\n      <td>0100000US</td>\n      <td>United States</td>\n      <td>00</td>\n      <td>Total for all sectors</td>\n      <td>002</td>\n      <td>Female</td>\n      <td>020</td>\n      <td>Hispanic</td>\n      <td>00</td>\n      <td>Total</td>\n      <td>...</td>\n      <td>None</td>\n      <td>6.0</td>\n      <td>None</td>\n      <td>16.2</td>\n      <td>None</td>\n      <td>6.7</td>\n      <td>None</td>\n      <td>10.7</td>\n      <td>None</td>\n      <td>1</td>\n    </tr>\n  </tbody>\n</table>\n<p>5 rows × 32 columns</p>\n</div>"
                    },
                    "metadata": {},
                    "execution_count": 10
                }
            ],
            "execution_count": 10
        },
        {
            "cell_type": "code",
            "source": [
                "\n",
                "census_data.columns = headers\n",
                "\n",
                "\n",
                "census_data.head()"
            ],
            "metadata": {
                "azdata_cell_guid": "c1ecbc07-a191-451b-97b4-51da6e487264"
            },
            "outputs": [
                {
                    "output_type": "execute_result",
                    "data": {
                        "text/plain": [
                            "      GEO_ID           NAME NAICS2017        NAICS2017_LABEL  SEX SEX_LABEL  \\\n",
                            "0  0100000US  United States        00  Total for all sectors  002    Female   \n",
                            "1  0100000US  United States        00  Total for all sectors  002    Female   \n",
                            "2  0100000US  United States        00  Total for all sectors  002    Female   \n",
                            "3  0100000US  United States        00  Total for all sectors  002    Female   \n",
                            "4  0100000US  United States        00  Total for all sectors  002    Female   \n",
                            "\n",
                            "  ETH_GROUP ETH_GROUP_LABEL RACE_GROUP RACE_GROUP_LABEL  ... PAYANN_F  \\\n",
                            "0       020        Hispanic         00            Total  ...     None   \n",
                            "1       020        Hispanic         00            Total  ...     None   \n",
                            "2       020        Hispanic         00            Total  ...     None   \n",
                            "3       020        Hispanic         00            Total  ...     None   \n",
                            "4       020        Hispanic         00            Total  ...     None   \n",
                            "\n",
                            "  FIRMPDEMP_S FIRMPDEMP_S_F RCPPDEMP_S RCPPDEMP_S_F EMP_S EMP_S_F PAYANN_S  \\\n",
                            "0         3.0          None        8.9         None   7.7    None      7.0   \n",
                            "1         4.7          None       19.2         None   0.0    None     13.5   \n",
                            "2         4.7          None        8.2         None   4.8    None      7.4   \n",
                            "3         5.9          None        4.3         None   5.6    None      6.3   \n",
                            "4         6.0          None       16.2         None   6.7    None     10.7   \n",
                            "\n",
                            "  PAYANN_S_F us  \n",
                            "0       None  1  \n",
                            "1       None  1  \n",
                            "2       None  1  \n",
                            "3       None  1  \n",
                            "4       None  1  \n",
                            "\n",
                            "[5 rows x 32 columns]"
                        ],
                        "text/html": "<div>\n<style scoped>\n    .dataframe tbody tr th:only-of-type {\n        vertical-align: middle;\n    }\n\n    .dataframe tbody tr th {\n        vertical-align: top;\n    }\n\n    .dataframe thead th {\n        text-align: right;\n    }\n</style>\n<table border=\"1\" class=\"dataframe\">\n  <thead>\n    <tr style=\"text-align: right;\">\n      <th></th>\n      <th>GEO_ID</th>\n      <th>NAME</th>\n      <th>NAICS2017</th>\n      <th>NAICS2017_LABEL</th>\n      <th>SEX</th>\n      <th>SEX_LABEL</th>\n      <th>ETH_GROUP</th>\n      <th>ETH_GROUP_LABEL</th>\n      <th>RACE_GROUP</th>\n      <th>RACE_GROUP_LABEL</th>\n      <th>...</th>\n      <th>PAYANN_F</th>\n      <th>FIRMPDEMP_S</th>\n      <th>FIRMPDEMP_S_F</th>\n      <th>RCPPDEMP_S</th>\n      <th>RCPPDEMP_S_F</th>\n      <th>EMP_S</th>\n      <th>EMP_S_F</th>\n      <th>PAYANN_S</th>\n      <th>PAYANN_S_F</th>\n      <th>us</th>\n    </tr>\n  </thead>\n  <tbody>\n    <tr>\n      <th>0</th>\n      <td>0100000US</td>\n      <td>United States</td>\n      <td>00</td>\n      <td>Total for all sectors</td>\n      <td>002</td>\n      <td>Female</td>\n      <td>020</td>\n      <td>Hispanic</td>\n      <td>00</td>\n      <td>Total</td>\n      <td>...</td>\n      <td>None</td>\n      <td>3.0</td>\n      <td>None</td>\n      <td>8.9</td>\n      <td>None</td>\n      <td>7.7</td>\n      <td>None</td>\n      <td>7.0</td>\n      <td>None</td>\n      <td>1</td>\n    </tr>\n    <tr>\n      <th>1</th>\n      <td>0100000US</td>\n      <td>United States</td>\n      <td>00</td>\n      <td>Total for all sectors</td>\n      <td>002</td>\n      <td>Female</td>\n      <td>020</td>\n      <td>Hispanic</td>\n      <td>00</td>\n      <td>Total</td>\n      <td>...</td>\n      <td>None</td>\n      <td>4.7</td>\n      <td>None</td>\n      <td>19.2</td>\n      <td>None</td>\n      <td>0.0</td>\n      <td>None</td>\n      <td>13.5</td>\n      <td>None</td>\n      <td>1</td>\n    </tr>\n    <tr>\n      <th>2</th>\n      <td>0100000US</td>\n      <td>United States</td>\n      <td>00</td>\n      <td>Total for all sectors</td>\n      <td>002</td>\n      <td>Female</td>\n      <td>020</td>\n      <td>Hispanic</td>\n      <td>00</td>\n      <td>Total</td>\n      <td>...</td>\n      <td>None</td>\n      <td>4.7</td>\n      <td>None</td>\n      <td>8.2</td>\n      <td>None</td>\n      <td>4.8</td>\n      <td>None</td>\n      <td>7.4</td>\n      <td>None</td>\n      <td>1</td>\n    </tr>\n    <tr>\n      <th>3</th>\n      <td>0100000US</td>\n      <td>United States</td>\n      <td>00</td>\n      <td>Total for all sectors</td>\n      <td>002</td>\n      <td>Female</td>\n      <td>020</td>\n      <td>Hispanic</td>\n      <td>00</td>\n      <td>Total</td>\n      <td>...</td>\n      <td>None</td>\n      <td>5.9</td>\n      <td>None</td>\n      <td>4.3</td>\n      <td>None</td>\n      <td>5.6</td>\n      <td>None</td>\n      <td>6.3</td>\n      <td>None</td>\n      <td>1</td>\n    </tr>\n    <tr>\n      <th>4</th>\n      <td>0100000US</td>\n      <td>United States</td>\n      <td>00</td>\n      <td>Total for all sectors</td>\n      <td>002</td>\n      <td>Female</td>\n      <td>020</td>\n      <td>Hispanic</td>\n      <td>00</td>\n      <td>Total</td>\n      <td>...</td>\n      <td>None</td>\n      <td>6.0</td>\n      <td>None</td>\n      <td>16.2</td>\n      <td>None</td>\n      <td>6.7</td>\n      <td>None</td>\n      <td>10.7</td>\n      <td>None</td>\n      <td>1</td>\n    </tr>\n  </tbody>\n</table>\n<p>5 rows × 32 columns</p>\n</div>"
                    },
                    "metadata": {},
                    "execution_count": 11
                }
            ],
            "execution_count": 11
        },
        {
            "cell_type": "code",
            "source": [
                "\n",
                "census_data.drop(['GEO_ID','SEX','NAICS2017','ETH_GROUP','RACE_GROUP','VET_GROUP','EMPSZFI'],axis=1,inplace=True)"
            ],
            "metadata": {
                "azdata_cell_guid": "9528d70c-3c84-4e62-90ce-6f85a511695f"
            },
            "outputs": [],
            "execution_count": 12
        },
        {
            "cell_type": "code",
            "source": [
                "\n",
                "census_data.info()"
            ],
            "metadata": {
                "azdata_cell_guid": "8c010aeb-aa1b-46ff-9cf1-fe6bf4e560dd"
            },
            "outputs": [
                {
                    "output_type": "stream",
                    "name": "stdout",
                    "text": [
                        "<class 'pandas.core.frame.DataFrame'>\nRangeIndex: 19458 entries, 0 to 19457\nData columns (total 25 columns):\n #   Column            Non-Null Count  Dtype \n---  ------            --------------  ----- \n 0   NAME              19458 non-null  object\n 1   NAICS2017_LABEL   19458 non-null  object\n 2   SEX_LABEL         19458 non-null  object\n 3   ETH_GROUP_LABEL   19458 non-null  object\n 4   RACE_GROUP_LABEL  19458 non-null  object\n 5   VET_GROUP_LABEL   19458 non-null  object\n 6   EMPSZFI_LABEL     19458 non-null  object\n 7   YEAR              19458 non-null  object\n 8   FIRMPDEMP         19458 non-null  object\n 9   FIRMPDEMP_F       7516 non-null   object\n 10  RCPPDEMP          19458 non-null  object\n 11  RCPPDEMP_F        18498 non-null  object\n 12  EMP               19458 non-null  object\n 13  EMP_F             7516 non-null   object\n 14  PAYANN            19458 non-null  object\n 15  PAYANN_F          7516 non-null   object\n 16  FIRMPDEMP_S       19458 non-null  object\n 17  FIRMPDEMP_S_F     7516 non-null   object\n 18  RCPPDEMP_S        19458 non-null  object\n 19  RCPPDEMP_S_F      18498 non-null  object\n 20  EMP_S             19458 non-null  object\n 21  EMP_S_F           7516 non-null   object\n 22  PAYANN_S          19458 non-null  object\n 23  PAYANN_S_F        7516 non-null   object\n 24  us                19458 non-null  object\ndtypes: object(25)\nmemory usage: 1.9+ MB\n"
                    ]
                }
            ],
            "execution_count": 13
        },
        {
            "cell_type": "code",
            "source": [
                "\n",
                "census_data.NAME.unique()"
            ],
            "metadata": {
                "azdata_cell_guid": "5df3bc38-78e9-40ff-a972-166f4380c34d"
            },
            "outputs": [
                {
                    "output_type": "execute_result",
                    "data": {
                        "text/plain": [
                            "array(['United States'], dtype=object)"
                        ]
                    },
                    "metadata": {},
                    "execution_count": 14
                }
            ],
            "execution_count": 14
        },
        {
            "cell_type": "code",
            "source": [
                "\n",
                "census_data.head()"
            ],
            "metadata": {
                "azdata_cell_guid": "434cf797-86c7-43d4-9f9b-ab619fb59055"
            },
            "outputs": [
                {
                    "output_type": "execute_result",
                    "data": {
                        "text/plain": [
                            "            NAME        NAICS2017_LABEL SEX_LABEL ETH_GROUP_LABEL  \\\n",
                            "0  United States  Total for all sectors    Female        Hispanic   \n",
                            "1  United States  Total for all sectors    Female        Hispanic   \n",
                            "2  United States  Total for all sectors    Female        Hispanic   \n",
                            "3  United States  Total for all sectors    Female        Hispanic   \n",
                            "4  United States  Total for all sectors    Female        Hispanic   \n",
                            "\n",
                            "  RACE_GROUP_LABEL VET_GROUP_LABEL                  EMPSZFI_LABEL  YEAR  \\\n",
                            "0            Total           Total                      All firms  2018   \n",
                            "1            Total           Total        Firms with no employees  2018   \n",
                            "2            Total           Total    Firms with 1 to 4 employees  2018   \n",
                            "3            Total           Total    Firms with 5 to 9 employees  2018   \n",
                            "4            Total           Total  Firms with 10 to 19 employees  2018   \n",
                            "\n",
                            "  FIRMPDEMP FIRMPDEMP_F  ... PAYANN_F FIRMPDEMP_S FIRMPDEMP_S_F RCPPDEMP_S  \\\n",
                            "0     84496        None  ...     None         3.0          None        8.9   \n",
                            "1     10036        None  ...     None         4.7          None       19.2   \n",
                            "2     47105        None  ...     None         4.7          None        8.2   \n",
                            "3     12523        None  ...     None         5.9          None        4.3   \n",
                            "4      8516        None  ...     None         6.0          None       16.2   \n",
                            "\n",
                            "  RCPPDEMP_S_F EMP_S EMP_S_F PAYANN_S PAYANN_S_F us  \n",
                            "0         None   7.7    None      7.0       None  1  \n",
                            "1         None   0.0    None     13.5       None  1  \n",
                            "2         None   4.8    None      7.4       None  1  \n",
                            "3         None   5.6    None      6.3       None  1  \n",
                            "4         None   6.7    None     10.7       None  1  \n",
                            "\n",
                            "[5 rows x 25 columns]"
                        ],
                        "text/html": "<div>\n<style scoped>\n    .dataframe tbody tr th:only-of-type {\n        vertical-align: middle;\n    }\n\n    .dataframe tbody tr th {\n        vertical-align: top;\n    }\n\n    .dataframe thead th {\n        text-align: right;\n    }\n</style>\n<table border=\"1\" class=\"dataframe\">\n  <thead>\n    <tr style=\"text-align: right;\">\n      <th></th>\n      <th>NAME</th>\n      <th>NAICS2017_LABEL</th>\n      <th>SEX_LABEL</th>\n      <th>ETH_GROUP_LABEL</th>\n      <th>RACE_GROUP_LABEL</th>\n      <th>VET_GROUP_LABEL</th>\n      <th>EMPSZFI_LABEL</th>\n      <th>YEAR</th>\n      <th>FIRMPDEMP</th>\n      <th>FIRMPDEMP_F</th>\n      <th>...</th>\n      <th>PAYANN_F</th>\n      <th>FIRMPDEMP_S</th>\n      <th>FIRMPDEMP_S_F</th>\n      <th>RCPPDEMP_S</th>\n      <th>RCPPDEMP_S_F</th>\n      <th>EMP_S</th>\n      <th>EMP_S_F</th>\n      <th>PAYANN_S</th>\n      <th>PAYANN_S_F</th>\n      <th>us</th>\n    </tr>\n  </thead>\n  <tbody>\n    <tr>\n      <th>0</th>\n      <td>United States</td>\n      <td>Total for all sectors</td>\n      <td>Female</td>\n      <td>Hispanic</td>\n      <td>Total</td>\n      <td>Total</td>\n      <td>All firms</td>\n      <td>2018</td>\n      <td>84496</td>\n      <td>None</td>\n      <td>...</td>\n      <td>None</td>\n      <td>3.0</td>\n      <td>None</td>\n      <td>8.9</td>\n      <td>None</td>\n      <td>7.7</td>\n      <td>None</td>\n      <td>7.0</td>\n      <td>None</td>\n      <td>1</td>\n    </tr>\n    <tr>\n      <th>1</th>\n      <td>United States</td>\n      <td>Total for all sectors</td>\n      <td>Female</td>\n      <td>Hispanic</td>\n      <td>Total</td>\n      <td>Total</td>\n      <td>Firms with no employees</td>\n      <td>2018</td>\n      <td>10036</td>\n      <td>None</td>\n      <td>...</td>\n      <td>None</td>\n      <td>4.7</td>\n      <td>None</td>\n      <td>19.2</td>\n      <td>None</td>\n      <td>0.0</td>\n      <td>None</td>\n      <td>13.5</td>\n      <td>None</td>\n      <td>1</td>\n    </tr>\n    <tr>\n      <th>2</th>\n      <td>United States</td>\n      <td>Total for all sectors</td>\n      <td>Female</td>\n      <td>Hispanic</td>\n      <td>Total</td>\n      <td>Total</td>\n      <td>Firms with 1 to 4 employees</td>\n      <td>2018</td>\n      <td>47105</td>\n      <td>None</td>\n      <td>...</td>\n      <td>None</td>\n      <td>4.7</td>\n      <td>None</td>\n      <td>8.2</td>\n      <td>None</td>\n      <td>4.8</td>\n      <td>None</td>\n      <td>7.4</td>\n      <td>None</td>\n      <td>1</td>\n    </tr>\n    <tr>\n      <th>3</th>\n      <td>United States</td>\n      <td>Total for all sectors</td>\n      <td>Female</td>\n      <td>Hispanic</td>\n      <td>Total</td>\n      <td>Total</td>\n      <td>Firms with 5 to 9 employees</td>\n      <td>2018</td>\n      <td>12523</td>\n      <td>None</td>\n      <td>...</td>\n      <td>None</td>\n      <td>5.9</td>\n      <td>None</td>\n      <td>4.3</td>\n      <td>None</td>\n      <td>5.6</td>\n      <td>None</td>\n      <td>6.3</td>\n      <td>None</td>\n      <td>1</td>\n    </tr>\n    <tr>\n      <th>4</th>\n      <td>United States</td>\n      <td>Total for all sectors</td>\n      <td>Female</td>\n      <td>Hispanic</td>\n      <td>Total</td>\n      <td>Total</td>\n      <td>Firms with 10 to 19 employees</td>\n      <td>2018</td>\n      <td>8516</td>\n      <td>None</td>\n      <td>...</td>\n      <td>None</td>\n      <td>6.0</td>\n      <td>None</td>\n      <td>16.2</td>\n      <td>None</td>\n      <td>6.7</td>\n      <td>None</td>\n      <td>10.7</td>\n      <td>None</td>\n      <td>1</td>\n    </tr>\n  </tbody>\n</table>\n<p>5 rows × 25 columns</p>\n</div>"
                    },
                    "metadata": {},
                    "execution_count": 15
                }
            ],
            "execution_count": 15
        },
        {
            "cell_type": "code",
            "source": [
                "\n",
                "census_data.NAICS2017_LABEL.unique()\n",
                "\n",
                "census_data.VET_GROUP_LABEL.unique()"
            ],
            "metadata": {
                "azdata_cell_guid": "50e5a5a4-7c8e-4393-be2f-65084c86ff29"
            },
            "outputs": [
                {
                    "output_type": "execute_result",
                    "data": {
                        "text/plain": [
                            "array(['Total', 'Veteran', 'Equally veteran/nonveteran', 'Nonveteran',\n",
                            "       'Classifiable', 'Unclassifiable'], dtype=object)"
                        ]
                    },
                    "metadata": {},
                    "execution_count": 16
                }
            ],
            "execution_count": 16
        },
        {
            "cell_type": "code",
            "source": [
                "\n",
                "tech = census_data[census_data.NAICS2017_LABEL=='Professional, scientific, and technical services']\n",
                "\n",
                "tech.info()"
            ],
            "metadata": {
                "azdata_cell_guid": "057b949f-b19f-4a8e-a0d4-1127c124a035"
            },
            "outputs": [
                {
                    "output_type": "stream",
                    "name": "stdout",
                    "text": [
                        "<class 'pandas.core.frame.DataFrame'>\nInt64Index: 1085 entries, 10876 to 12300\nData columns (total 25 columns):\n #   Column            Non-Null Count  Dtype \n---  ------            --------------  ----- \n 0   NAME              1085 non-null   object\n 1   NAICS2017_LABEL   1085 non-null   object\n 2   SEX_LABEL         1085 non-null   object\n 3   ETH_GROUP_LABEL   1085 non-null   object\n 4   RACE_GROUP_LABEL  1085 non-null   object\n 5   VET_GROUP_LABEL   1085 non-null   object\n 6   EMPSZFI_LABEL     1085 non-null   object\n 7   YEAR              1085 non-null   object\n 8   FIRMPDEMP         1085 non-null   object\n 9   FIRMPDEMP_F       291 non-null    object\n 10  RCPPDEMP          1085 non-null   object\n 11  RCPPDEMP_F        1085 non-null   object\n 12  EMP               1085 non-null   object\n 13  EMP_F             291 non-null    object\n 14  PAYANN            1085 non-null   object\n 15  PAYANN_F          291 non-null    object\n 16  FIRMPDEMP_S       1085 non-null   object\n 17  FIRMPDEMP_S_F     291 non-null    object\n 18  RCPPDEMP_S        1085 non-null   object\n 19  RCPPDEMP_S_F      1085 non-null   object\n 20  EMP_S             1085 non-null   object\n 21  EMP_S_F           291 non-null    object\n 22  PAYANN_S          1085 non-null   object\n 23  PAYANN_S_F        291 non-null    object\n 24  us                1085 non-null   object\ndtypes: object(25)\nmemory usage: 114.4+ KB\n"
                    ]
                }
            ],
            "execution_count": 17
        },
        {
            "cell_type": "code",
            "source": [
                "\n",
                "tech.tail()"
            ],
            "metadata": {
                "azdata_cell_guid": "e4f047b4-8065-4dbe-b73d-b1d58a214d83"
            },
            "outputs": [
                {
                    "output_type": "execute_result",
                    "data": {
                        "text/plain": [
                            "                NAME                                   NAICS2017_LABEL  \\\n",
                            "12296  United States  Professional, scientific, and technical services   \n",
                            "12297  United States  Professional, scientific, and technical services   \n",
                            "12298  United States  Professional, scientific, and technical services   \n",
                            "12299  United States  Professional, scientific, and technical services   \n",
                            "12300  United States  Professional, scientific, and technical services   \n",
                            "\n",
                            "      SEX_LABEL ETH_GROUP_LABEL RACE_GROUP_LABEL VET_GROUP_LABEL  \\\n",
                            "12296     Total           Total            Asian         Veteran   \n",
                            "12297     Total           Total            Asian         Veteran   \n",
                            "12298     Total           Total            Asian         Veteran   \n",
                            "12299     Total           Total            Asian         Veteran   \n",
                            "12300     Total           Total            Asian         Veteran   \n",
                            "\n",
                            "                          EMPSZFI_LABEL  YEAR FIRMPDEMP FIRMPDEMP_F  ...  \\\n",
                            "12296     Firms with 10 to 19 employees  2018         0           S  ...   \n",
                            "12297     Firms with 20 to 49 employees  2018         0           S  ...   \n",
                            "12298   Firms with 100 to 249 employees  2018        10        None  ...   \n",
                            "12299   Firms with 250 to 499 employees  2018         0           D  ...   \n",
                            "12300  Firms with 500 employees or more  2018         0           D  ...   \n",
                            "\n",
                            "      PAYANN_F FIRMPDEMP_S FIRMPDEMP_S_F RCPPDEMP_S RCPPDEMP_S_F EMP_S  \\\n",
                            "12296        S         0.0             S        0.0            S   0.0   \n",
                            "12297        S         0.0             S        0.0            S   0.0   \n",
                            "12298     None        64.4          None        0.0            S  45.1   \n",
                            "12299        D         0.0             D        0.0            D   0.0   \n",
                            "12300        D         0.0             D        0.0            D   0.0   \n",
                            "\n",
                            "      EMP_S_F PAYANN_S PAYANN_S_F us  \n",
                            "12296       S      0.0          S  1  \n",
                            "12297       S      0.0          S  1  \n",
                            "12298    None     43.4       None  1  \n",
                            "12299       D      0.0          D  1  \n",
                            "12300       D      0.0          D  1  \n",
                            "\n",
                            "[5 rows x 25 columns]"
                        ],
                        "text/html": "<div>\n<style scoped>\n    .dataframe tbody tr th:only-of-type {\n        vertical-align: middle;\n    }\n\n    .dataframe tbody tr th {\n        vertical-align: top;\n    }\n\n    .dataframe thead th {\n        text-align: right;\n    }\n</style>\n<table border=\"1\" class=\"dataframe\">\n  <thead>\n    <tr style=\"text-align: right;\">\n      <th></th>\n      <th>NAME</th>\n      <th>NAICS2017_LABEL</th>\n      <th>SEX_LABEL</th>\n      <th>ETH_GROUP_LABEL</th>\n      <th>RACE_GROUP_LABEL</th>\n      <th>VET_GROUP_LABEL</th>\n      <th>EMPSZFI_LABEL</th>\n      <th>YEAR</th>\n      <th>FIRMPDEMP</th>\n      <th>FIRMPDEMP_F</th>\n      <th>...</th>\n      <th>PAYANN_F</th>\n      <th>FIRMPDEMP_S</th>\n      <th>FIRMPDEMP_S_F</th>\n      <th>RCPPDEMP_S</th>\n      <th>RCPPDEMP_S_F</th>\n      <th>EMP_S</th>\n      <th>EMP_S_F</th>\n      <th>PAYANN_S</th>\n      <th>PAYANN_S_F</th>\n      <th>us</th>\n    </tr>\n  </thead>\n  <tbody>\n    <tr>\n      <th>12296</th>\n      <td>United States</td>\n      <td>Professional, scientific, and technical services</td>\n      <td>Total</td>\n      <td>Total</td>\n      <td>Asian</td>\n      <td>Veteran</td>\n      <td>Firms with 10 to 19 employees</td>\n      <td>2018</td>\n      <td>0</td>\n      <td>S</td>\n      <td>...</td>\n      <td>S</td>\n      <td>0.0</td>\n      <td>S</td>\n      <td>0.0</td>\n      <td>S</td>\n      <td>0.0</td>\n      <td>S</td>\n      <td>0.0</td>\n      <td>S</td>\n      <td>1</td>\n    </tr>\n    <tr>\n      <th>12297</th>\n      <td>United States</td>\n      <td>Professional, scientific, and technical services</td>\n      <td>Total</td>\n      <td>Total</td>\n      <td>Asian</td>\n      <td>Veteran</td>\n      <td>Firms with 20 to 49 employees</td>\n      <td>2018</td>\n      <td>0</td>\n      <td>S</td>\n      <td>...</td>\n      <td>S</td>\n      <td>0.0</td>\n      <td>S</td>\n      <td>0.0</td>\n      <td>S</td>\n      <td>0.0</td>\n      <td>S</td>\n      <td>0.0</td>\n      <td>S</td>\n      <td>1</td>\n    </tr>\n    <tr>\n      <th>12298</th>\n      <td>United States</td>\n      <td>Professional, scientific, and technical services</td>\n      <td>Total</td>\n      <td>Total</td>\n      <td>Asian</td>\n      <td>Veteran</td>\n      <td>Firms with 100 to 249 employees</td>\n      <td>2018</td>\n      <td>10</td>\n      <td>None</td>\n      <td>...</td>\n      <td>None</td>\n      <td>64.4</td>\n      <td>None</td>\n      <td>0.0</td>\n      <td>S</td>\n      <td>45.1</td>\n      <td>None</td>\n      <td>43.4</td>\n      <td>None</td>\n      <td>1</td>\n    </tr>\n    <tr>\n      <th>12299</th>\n      <td>United States</td>\n      <td>Professional, scientific, and technical services</td>\n      <td>Total</td>\n      <td>Total</td>\n      <td>Asian</td>\n      <td>Veteran</td>\n      <td>Firms with 250 to 499 employees</td>\n      <td>2018</td>\n      <td>0</td>\n      <td>D</td>\n      <td>...</td>\n      <td>D</td>\n      <td>0.0</td>\n      <td>D</td>\n      <td>0.0</td>\n      <td>D</td>\n      <td>0.0</td>\n      <td>D</td>\n      <td>0.0</td>\n      <td>D</td>\n      <td>1</td>\n    </tr>\n    <tr>\n      <th>12300</th>\n      <td>United States</td>\n      <td>Professional, scientific, and technical services</td>\n      <td>Total</td>\n      <td>Total</td>\n      <td>Asian</td>\n      <td>Veteran</td>\n      <td>Firms with 500 employees or more</td>\n      <td>2018</td>\n      <td>0</td>\n      <td>D</td>\n      <td>...</td>\n      <td>D</td>\n      <td>0.0</td>\n      <td>D</td>\n      <td>0.0</td>\n      <td>D</td>\n      <td>0.0</td>\n      <td>D</td>\n      <td>0.0</td>\n      <td>D</td>\n      <td>1</td>\n    </tr>\n  </tbody>\n</table>\n<p>5 rows × 25 columns</p>\n</div>"
                    },
                    "metadata": {},
                    "execution_count": 18
                }
            ],
            "execution_count": 18
        },
        {
            "cell_type": "code",
            "source": [
                "tech.shape"
            ],
            "metadata": {
                "azdata_cell_guid": "aa28d75b-62a5-4160-89fb-7004ebc1c5e9"
            },
            "outputs": [
                {
                    "output_type": "execute_result",
                    "data": {
                        "text/plain": [
                            "(1085, 25)"
                        ]
                    },
                    "metadata": {},
                    "execution_count": 19
                }
            ],
            "execution_count": 19
        },
        {
            "cell_type": "code",
            "source": [],
            "metadata": {
                "azdata_cell_guid": "be9af5a3-e976-4316-9d5f-3f6a4a5af751"
            },
            "outputs": [
                {
                    "data": {
                        "text/plain": "Index(['NAME', 'NAICS2017_LABEL', 'SEX_LABEL', 'ETH_GROUP_LABEL',\n       'RACE_GROUP_LABEL', 'VET_GROUP_LABEL', 'EMPSZFI_LABEL', 'YEAR',\n       'FIRMPDEMP', 'FIRMPDEMP_F', 'RCPPDEMP', 'RCPPDEMP_F', 'EMP', 'EMP_F',\n       'PAYANN', 'PAYANN_F', 'FIRMPDEMP_S', 'FIRMPDEMP_S_F', 'RCPPDEMP_S',\n       'RCPPDEMP_S_F', 'EMP_S', 'EMP_S_F', 'PAYANN_S', 'PAYANN_S_F', 'state'],\n      dtype='object')"
                    },
                    "metadata": {},
                    "execution_count": 112,
                    "output_type": "execute_result"
                }
            ],
            "execution_count": 112
        },
        {
            "cell_type": "code",
            "source": [
                "tech_labels = tech[['PAYANN','VET_GROUP_LABEL','SEX_LABEL','RACE_GROUP_LABEL','ETH_GROUP_LABEL','EMPSZFI_LABEL', 'FIRMPDEMP']]\n",
                "tech_labels\n",
                "\n",
                "tech_labels2 = tech[['EMP','SEX_LABEL']]\n",
                "tech_labels2\n",
                "\n",
                "tech_labels3 = tech[['FIRMPDEMP', 'VET_GROUP_LABEL']]\n",
                "tech_labels3"
            ],
            "metadata": {
                "azdata_cell_guid": "14ef4f33-9053-43bf-8cea-c3f66883bae0"
            },
            "outputs": [
                {
                    "output_type": "execute_result",
                    "data": {
                        "text/plain": [
                            "      FIRMPDEMP VET_GROUP_LABEL\n",
                            "10876      2431           Total\n",
                            "10877         0           Total\n",
                            "10878      1465           Total\n",
                            "10879       241           Total\n",
                            "10880         0           Total\n",
                            "...         ...             ...\n",
                            "12296         0         Veteran\n",
                            "12297         0         Veteran\n",
                            "12298        10         Veteran\n",
                            "12299         0         Veteran\n",
                            "12300         0         Veteran\n",
                            "\n",
                            "[1085 rows x 2 columns]"
                        ],
                        "text/html": "<div>\n<style scoped>\n    .dataframe tbody tr th:only-of-type {\n        vertical-align: middle;\n    }\n\n    .dataframe tbody tr th {\n        vertical-align: top;\n    }\n\n    .dataframe thead th {\n        text-align: right;\n    }\n</style>\n<table border=\"1\" class=\"dataframe\">\n  <thead>\n    <tr style=\"text-align: right;\">\n      <th></th>\n      <th>FIRMPDEMP</th>\n      <th>VET_GROUP_LABEL</th>\n    </tr>\n  </thead>\n  <tbody>\n    <tr>\n      <th>10876</th>\n      <td>2431</td>\n      <td>Total</td>\n    </tr>\n    <tr>\n      <th>10877</th>\n      <td>0</td>\n      <td>Total</td>\n    </tr>\n    <tr>\n      <th>10878</th>\n      <td>1465</td>\n      <td>Total</td>\n    </tr>\n    <tr>\n      <th>10879</th>\n      <td>241</td>\n      <td>Total</td>\n    </tr>\n    <tr>\n      <th>10880</th>\n      <td>0</td>\n      <td>Total</td>\n    </tr>\n    <tr>\n      <th>...</th>\n      <td>...</td>\n      <td>...</td>\n    </tr>\n    <tr>\n      <th>12296</th>\n      <td>0</td>\n      <td>Veteran</td>\n    </tr>\n    <tr>\n      <th>12297</th>\n      <td>0</td>\n      <td>Veteran</td>\n    </tr>\n    <tr>\n      <th>12298</th>\n      <td>10</td>\n      <td>Veteran</td>\n    </tr>\n    <tr>\n      <th>12299</th>\n      <td>0</td>\n      <td>Veteran</td>\n    </tr>\n    <tr>\n      <th>12300</th>\n      <td>0</td>\n      <td>Veteran</td>\n    </tr>\n  </tbody>\n</table>\n<p>1085 rows × 2 columns</p>\n</div>"
                    },
                    "metadata": {},
                    "execution_count": 20
                }
            ],
            "execution_count": 20
        },
        {
            "cell_type": "code",
            "execution_count": 21,
            "metadata": {},
            "outputs": [
                {
                    "output_type": "stream",
                    "name": "stdout",
                    "text": [
                        "         EMP            SEX_LABEL\n10876  14068                 Male\n10877      0                 Male\n10878   2487                 Male\n10879   1572                 Male\n10880      0                 Male\n...      ...                  ...\n12242    646  Equally male/female\n12243      0               Female\n12244  12130                 Male\n12288      0               Female\n12289   2533                 Male\n\n[503 rows x 2 columns]\n"
                    ]
                }
            ],
            "source": [
                "filter_criteria3 = (tech_labels2.SEX_LABEL != 'Total') & (tech_labels2.SEX_LABEL != 'Classifiable') & (tech_labels2.SEX_LABEL != 'Unclassifiable')\n",
                "tech_cleaned3 = tech_labels2[filter_criteria3]\n",
                "print(tech_cleaned3)"
            ]
        },
        {
            "cell_type": "code",
            "source": [
                "filter_criteria = (tech_labels.VET_GROUP_LABEL == 'Total') & (tech_labels.SEX_LABEL == 'Total') & (tech_labels.RACE_GROUP_LABEL == 'Total') & (tech_labels.ETH_GROUP_LABEL == 'Total')\n",
                "tech_totals = tech_labels[filter_criteria]\n",
                "print(tech_totals)"
            ],
            "metadata": {
                "azdata_cell_guid": "bb252d8d-87c6-4bf0-94e4-2bc58a3589d8"
            },
            "outputs": [
                {
                    "output_type": "stream",
                    "name": "stdout",
                    "text": [
                        "          PAYANN VET_GROUP_LABEL SEX_LABEL RACE_GROUP_LABEL ETH_GROUP_LABEL  \\\n10886  405112493           Total     Total            Total           Total   \n10910  816366134           Total     Total            Total           Total   \n10911    7942912           Total     Total            Total           Total   \n10912   45504027           Total     Total            Total           Total   \n10913   39805513           Total     Total            Total           Total   \n10914   52207335           Total     Total            Total           Total   \n10915   75452862           Total     Total            Total           Total   \n10916   53550024           Total     Total            Total           Total   \n10917   71639818           Total     Total            Total           Total   \n10918   65151150           Total     Total            Total           Total   \n\n                          EMPSZFI_LABEL FIRMPDEMP  \n10886  Firms with 500 employees or more      3540  \n10910                         All firms    817532  \n10911           Firms with no employees    133052  \n10912       Firms with 1 to 4 employees    471903  \n10913       Firms with 5 to 9 employees    100469  \n10914     Firms with 10 to 19 employees     58106  \n10915     Firms with 20 to 49 employees     32660  \n10916     Firms with 50 to 99 employees      9290  \n10917   Firms with 100 to 249 employees      6088  \n10918   Firms with 250 to 499 employees      2422  \n"
                    ]
                }
            ],
            "execution_count": 22
        },
        {
            "cell_type": "code",
            "source": [
                "tech_cleaned = tech_totals[['PAYANN','EMPSZFI_LABEL']]\n",
                "tech_cleaned\n",
                "\n",
                "tech_cleanedx = tech_totals[['FIRMPDEMP','EMPSZFI_LABEL']]\n",
                "tech_cleanedx\n",
                "tech_cleanedx = tech_cleanedx[tech_cleanedx.EMPSZFI_LABEL!='All firms']"
            ],
            "metadata": {
                "azdata_cell_guid": "58f270eb-e778-49df-9846-422ac2ed3a0b"
            },
            "outputs": [],
            "execution_count": 23
        },
        {
            "cell_type": "code",
            "execution_count": 24,
            "metadata": {},
            "outputs": [],
            "source": [
                "filter_criteria2 = (tech_labels.RACE_GROUP_LABEL != 'Total') & (tech_labels.RACE_GROUP_LABEL != 'Classifiable') & (tech_labels.RACE_GROUP_LABEL != 'Unclassifiable')\n",
                "tech_totals2 = tech_labels[filter_criteria2]\n",
                "\n",
                "\n"
            ]
        },
        {
            "cell_type": "code",
            "execution_count": 25,
            "metadata": {},
            "outputs": [
                {
                    "output_type": "execute_result",
                    "data": {
                        "text/plain": [
                            "       PAYANN                   RACE_GROUP_LABEL\n",
                            "10876  864306  American Indian and Alaska Native\n",
                            "10877       0  American Indian and Alaska Native\n",
                            "10878  109797  American Indian and Alaska Native\n",
                            "10879   96887  American Indian and Alaska Native\n",
                            "10880       0  American Indian and Alaska Native\n",
                            "...       ...                                ...\n",
                            "12296       0                              Asian\n",
                            "12297       0                              Asian\n",
                            "12298  178067                              Asian\n",
                            "12299       0                              Asian\n",
                            "12300       0                              Asian\n",
                            "\n",
                            "[701 rows x 2 columns]"
                        ],
                        "text/html": "<div>\n<style scoped>\n    .dataframe tbody tr th:only-of-type {\n        vertical-align: middle;\n    }\n\n    .dataframe tbody tr th {\n        vertical-align: top;\n    }\n\n    .dataframe thead th {\n        text-align: right;\n    }\n</style>\n<table border=\"1\" class=\"dataframe\">\n  <thead>\n    <tr style=\"text-align: right;\">\n      <th></th>\n      <th>PAYANN</th>\n      <th>RACE_GROUP_LABEL</th>\n    </tr>\n  </thead>\n  <tbody>\n    <tr>\n      <th>10876</th>\n      <td>864306</td>\n      <td>American Indian and Alaska Native</td>\n    </tr>\n    <tr>\n      <th>10877</th>\n      <td>0</td>\n      <td>American Indian and Alaska Native</td>\n    </tr>\n    <tr>\n      <th>10878</th>\n      <td>109797</td>\n      <td>American Indian and Alaska Native</td>\n    </tr>\n    <tr>\n      <th>10879</th>\n      <td>96887</td>\n      <td>American Indian and Alaska Native</td>\n    </tr>\n    <tr>\n      <th>10880</th>\n      <td>0</td>\n      <td>American Indian and Alaska Native</td>\n    </tr>\n    <tr>\n      <th>...</th>\n      <td>...</td>\n      <td>...</td>\n    </tr>\n    <tr>\n      <th>12296</th>\n      <td>0</td>\n      <td>Asian</td>\n    </tr>\n    <tr>\n      <th>12297</th>\n      <td>0</td>\n      <td>Asian</td>\n    </tr>\n    <tr>\n      <th>12298</th>\n      <td>178067</td>\n      <td>Asian</td>\n    </tr>\n    <tr>\n      <th>12299</th>\n      <td>0</td>\n      <td>Asian</td>\n    </tr>\n    <tr>\n      <th>12300</th>\n      <td>0</td>\n      <td>Asian</td>\n    </tr>\n  </tbody>\n</table>\n<p>701 rows × 2 columns</p>\n</div>"
                    },
                    "metadata": {},
                    "execution_count": 25
                }
            ],
            "source": [
                "tech_cleaned2 = tech_totals2[['PAYANN','RACE_GROUP_LABEL']]\n",
                "tech_cleaned2"
            ]
        },
        {
            "cell_type": "code",
            "source": [
                "tech_cleaned =  tech_cleaned[tech_cleaned.EMPSZFI_LABEL != 'All firms']\n",
                "\n",
                "convertDict = {'PAYANN': int, 'EMPSZFI_LABEL': str}\n",
                "tech_cleaned = tech_cleaned.astype(convertDict)\n",
                "print(tech_cleaned.dtypes)\n",
                "\n",
                "convertDict2 = {'PAYANN': int, 'RACE_GROUP_LABEL': str}\n",
                "tech_cleaned2 = tech_cleaned2.astype(convertDict2)\n",
                "print(tech_cleaned2.dtypes)\n",
                "\n",
                "convertDict3 = {'EMP': int, 'SEX_LABEL': str}\n",
                "tech_cleaned3 = tech_cleaned3.astype(convertDict3)\n",
                "print(tech_cleaned3.dtypes)\n",
                "\n",
                "convertDict4 = {'FIRMPDEMP': int, 'EMPSZFI_LABEL': str}\n",
                "tech_cleanedx = tech_cleanedx.astype(convertDict4)\n",
                "print(tech_cleanedx.dtypes)"
            ],
            "metadata": {
                "azdata_cell_guid": "e5fefd41-b8bf-4d8c-9124-dde46ad848f6"
            },
            "outputs": [
                {
                    "output_type": "stream",
                    "name": "stdout",
                    "text": [
                        "PAYANN            int32\nEMPSZFI_LABEL    object\ndtype: object\nPAYANN               int32\nRACE_GROUP_LABEL    object\ndtype: object\nEMP           int32\nSEX_LABEL    object\ndtype: object\nFIRMPDEMP         int32\nEMPSZFI_LABEL    object\ndtype: object\n"
                    ]
                }
            ],
            "execution_count": 26
        },
        {
            "cell_type": "code",
            "source": [
                "import plotly.express as px\n",
                "from natsort import index_natsorted, order_by_index\n",
                "\n",
                "tech_cleaned['EMPSZFI_LABEL'] = tech_cleanedx['EMPSZFI_LABEL'].replace(['Firms with no employees'],'Firms with 0 employees')\n",
                "tech_cleaned = tech_cleaned.reindex(index=order_by_index(tech_cleaned.index, index_natsorted(tech_cleaned['EMPSZFI_LABEL'], reverse=False)))\n",
                "\n",
                "fig = px.line(tech_cleaned,x='EMPSZFI_LABEL',y='PAYANN',orientation='v',\n",
                "    labels = {\n",
                "        \"PAYANN\":\"Annual Payroll\",\n",
                "        \"EMPSZFI_LABEL\" : \"Firm Size\"\n",
                "    },\n",
                "    title='Annual Payroll by Firm Size')\n",
                "fig.show()"
            ],
            "metadata": {
                "azdata_cell_guid": "2adb203c-71d8-4c4a-a6f5-935c82551a45"
            },
            "outputs": [
                {
                    "output_type": "display_data",
                    "data": {
                        "application/vnd.plotly.v1+json": {
                            "config": {
                                "plotlyServerURL": "https://plot.ly"
                            },
                            "data": [
                                {
                                    "hovertemplate": "Firm Size=%{x}<br>Annual Payroll=%{y}<extra></extra>",
                                    "legendgroup": "",
                                    "line": {
                                        "color": "#636efa",
                                        "dash": "solid"
                                    },
                                    "mode": "lines",
                                    "name": "",
                                    "orientation": "v",
                                    "showlegend": false,
                                    "type": "scatter",
                                    "x": [
                                        "Firms with 0 employees",
                                        "Firms with 1 to 4 employees",
                                        "Firms with 5 to 9 employees",
                                        "Firms with 10 to 19 employees",
                                        "Firms with 20 to 49 employees",
                                        "Firms with 50 to 99 employees",
                                        "Firms with 100 to 249 employees",
                                        "Firms with 250 to 499 employees",
                                        "Firms with 500 employees or more"
                                    ],
                                    "xaxis": "x",
                                    "y": [
                                        7942912,
                                        45504027,
                                        39805513,
                                        52207335,
                                        75452862,
                                        53550024,
                                        71639818,
                                        65151150,
                                        405112493
                                    ],
                                    "yaxis": "y"
                                }
                            ],
                            "layout": {
                                "legend": {
                                    "tracegroupgap": 0
                                },
                                "template": {
                                    "data": {
                                        "bar": [
                                            {
                                                "error_x": {
                                                    "color": "#2a3f5f"
                                                },
                                                "error_y": {
                                                    "color": "#2a3f5f"
                                                },
                                                "marker": {
                                                    "line": {
                                                        "color": "#E5ECF6",
                                                        "width": 0.5
                                                    },
                                                    "pattern": {
                                                        "fillmode": "overlay",
                                                        "size": 10,
                                                        "solidity": 0.2
                                                    }
                                                },
                                                "type": "bar"
                                            }
                                        ],
                                        "barpolar": [
                                            {
                                                "marker": {
                                                    "line": {
                                                        "color": "#E5ECF6",
                                                        "width": 0.5
                                                    },
                                                    "pattern": {
                                                        "fillmode": "overlay",
                                                        "size": 10,
                                                        "solidity": 0.2
                                                    }
                                                },
                                                "type": "barpolar"
                                            }
                                        ],
                                        "carpet": [
                                            {
                                                "aaxis": {
                                                    "endlinecolor": "#2a3f5f",
                                                    "gridcolor": "white",
                                                    "linecolor": "white",
                                                    "minorgridcolor": "white",
                                                    "startlinecolor": "#2a3f5f"
                                                },
                                                "baxis": {
                                                    "endlinecolor": "#2a3f5f",
                                                    "gridcolor": "white",
                                                    "linecolor": "white",
                                                    "minorgridcolor": "white",
                                                    "startlinecolor": "#2a3f5f"
                                                },
                                                "type": "carpet"
                                            }
                                        ],
                                        "choropleth": [
                                            {
                                                "colorbar": {
                                                    "outlinewidth": 0,
                                                    "ticks": ""
                                                },
                                                "type": "choropleth"
                                            }
                                        ],
                                        "contour": [
                                            {
                                                "colorbar": {
                                                    "outlinewidth": 0,
                                                    "ticks": ""
                                                },
                                                "colorscale": [
                                                    [
                                                        0,
                                                        "#0d0887"
                                                    ],
                                                    [
                                                        0.1111111111111111,
                                                        "#46039f"
                                                    ],
                                                    [
                                                        0.2222222222222222,
                                                        "#7201a8"
                                                    ],
                                                    [
                                                        0.3333333333333333,
                                                        "#9c179e"
                                                    ],
                                                    [
                                                        0.4444444444444444,
                                                        "#bd3786"
                                                    ],
                                                    [
                                                        0.5555555555555556,
                                                        "#d8576b"
                                                    ],
                                                    [
                                                        0.6666666666666666,
                                                        "#ed7953"
                                                    ],
                                                    [
                                                        0.7777777777777778,
                                                        "#fb9f3a"
                                                    ],
                                                    [
                                                        0.8888888888888888,
                                                        "#fdca26"
                                                    ],
                                                    [
                                                        1,
                                                        "#f0f921"
                                                    ]
                                                ],
                                                "type": "contour"
                                            }
                                        ],
                                        "contourcarpet": [
                                            {
                                                "colorbar": {
                                                    "outlinewidth": 0,
                                                    "ticks": ""
                                                },
                                                "type": "contourcarpet"
                                            }
                                        ],
                                        "heatmap": [
                                            {
                                                "colorbar": {
                                                    "outlinewidth": 0,
                                                    "ticks": ""
                                                },
                                                "colorscale": [
                                                    [
                                                        0,
                                                        "#0d0887"
                                                    ],
                                                    [
                                                        0.1111111111111111,
                                                        "#46039f"
                                                    ],
                                                    [
                                                        0.2222222222222222,
                                                        "#7201a8"
                                                    ],
                                                    [
                                                        0.3333333333333333,
                                                        "#9c179e"
                                                    ],
                                                    [
                                                        0.4444444444444444,
                                                        "#bd3786"
                                                    ],
                                                    [
                                                        0.5555555555555556,
                                                        "#d8576b"
                                                    ],
                                                    [
                                                        0.6666666666666666,
                                                        "#ed7953"
                                                    ],
                                                    [
                                                        0.7777777777777778,
                                                        "#fb9f3a"
                                                    ],
                                                    [
                                                        0.8888888888888888,
                                                        "#fdca26"
                                                    ],
                                                    [
                                                        1,
                                                        "#f0f921"
                                                    ]
                                                ],
                                                "type": "heatmap"
                                            }
                                        ],
                                        "heatmapgl": [
                                            {
                                                "colorbar": {
                                                    "outlinewidth": 0,
                                                    "ticks": ""
                                                },
                                                "colorscale": [
                                                    [
                                                        0,
                                                        "#0d0887"
                                                    ],
                                                    [
                                                        0.1111111111111111,
                                                        "#46039f"
                                                    ],
                                                    [
                                                        0.2222222222222222,
                                                        "#7201a8"
                                                    ],
                                                    [
                                                        0.3333333333333333,
                                                        "#9c179e"
                                                    ],
                                                    [
                                                        0.4444444444444444,
                                                        "#bd3786"
                                                    ],
                                                    [
                                                        0.5555555555555556,
                                                        "#d8576b"
                                                    ],
                                                    [
                                                        0.6666666666666666,
                                                        "#ed7953"
                                                    ],
                                                    [
                                                        0.7777777777777778,
                                                        "#fb9f3a"
                                                    ],
                                                    [
                                                        0.8888888888888888,
                                                        "#fdca26"
                                                    ],
                                                    [
                                                        1,
                                                        "#f0f921"
                                                    ]
                                                ],
                                                "type": "heatmapgl"
                                            }
                                        ],
                                        "histogram": [
                                            {
                                                "marker": {
                                                    "pattern": {
                                                        "fillmode": "overlay",
                                                        "size": 10,
                                                        "solidity": 0.2
                                                    }
                                                },
                                                "type": "histogram"
                                            }
                                        ],
                                        "histogram2d": [
                                            {
                                                "colorbar": {
                                                    "outlinewidth": 0,
                                                    "ticks": ""
                                                },
                                                "colorscale": [
                                                    [
                                                        0,
                                                        "#0d0887"
                                                    ],
                                                    [
                                                        0.1111111111111111,
                                                        "#46039f"
                                                    ],
                                                    [
                                                        0.2222222222222222,
                                                        "#7201a8"
                                                    ],
                                                    [
                                                        0.3333333333333333,
                                                        "#9c179e"
                                                    ],
                                                    [
                                                        0.4444444444444444,
                                                        "#bd3786"
                                                    ],
                                                    [
                                                        0.5555555555555556,
                                                        "#d8576b"
                                                    ],
                                                    [
                                                        0.6666666666666666,
                                                        "#ed7953"
                                                    ],
                                                    [
                                                        0.7777777777777778,
                                                        "#fb9f3a"
                                                    ],
                                                    [
                                                        0.8888888888888888,
                                                        "#fdca26"
                                                    ],
                                                    [
                                                        1,
                                                        "#f0f921"
                                                    ]
                                                ],
                                                "type": "histogram2d"
                                            }
                                        ],
                                        "histogram2dcontour": [
                                            {
                                                "colorbar": {
                                                    "outlinewidth": 0,
                                                    "ticks": ""
                                                },
                                                "colorscale": [
                                                    [
                                                        0,
                                                        "#0d0887"
                                                    ],
                                                    [
                                                        0.1111111111111111,
                                                        "#46039f"
                                                    ],
                                                    [
                                                        0.2222222222222222,
                                                        "#7201a8"
                                                    ],
                                                    [
                                                        0.3333333333333333,
                                                        "#9c179e"
                                                    ],
                                                    [
                                                        0.4444444444444444,
                                                        "#bd3786"
                                                    ],
                                                    [
                                                        0.5555555555555556,
                                                        "#d8576b"
                                                    ],
                                                    [
                                                        0.6666666666666666,
                                                        "#ed7953"
                                                    ],
                                                    [
                                                        0.7777777777777778,
                                                        "#fb9f3a"
                                                    ],
                                                    [
                                                        0.8888888888888888,
                                                        "#fdca26"
                                                    ],
                                                    [
                                                        1,
                                                        "#f0f921"
                                                    ]
                                                ],
                                                "type": "histogram2dcontour"
                                            }
                                        ],
                                        "mesh3d": [
                                            {
                                                "colorbar": {
                                                    "outlinewidth": 0,
                                                    "ticks": ""
                                                },
                                                "type": "mesh3d"
                                            }
                                        ],
                                        "parcoords": [
                                            {
                                                "line": {
                                                    "colorbar": {
                                                        "outlinewidth": 0,
                                                        "ticks": ""
                                                    }
                                                },
                                                "type": "parcoords"
                                            }
                                        ],
                                        "pie": [
                                            {
                                                "automargin": true,
                                                "type": "pie"
                                            }
                                        ],
                                        "scatter": [
                                            {
                                                "marker": {
                                                    "colorbar": {
                                                        "outlinewidth": 0,
                                                        "ticks": ""
                                                    }
                                                },
                                                "type": "scatter"
                                            }
                                        ],
                                        "scatter3d": [
                                            {
                                                "line": {
                                                    "colorbar": {
                                                        "outlinewidth": 0,
                                                        "ticks": ""
                                                    }
                                                },
                                                "marker": {
                                                    "colorbar": {
                                                        "outlinewidth": 0,
                                                        "ticks": ""
                                                    }
                                                },
                                                "type": "scatter3d"
                                            }
                                        ],
                                        "scattercarpet": [
                                            {
                                                "marker": {
                                                    "colorbar": {
                                                        "outlinewidth": 0,
                                                        "ticks": ""
                                                    }
                                                },
                                                "type": "scattercarpet"
                                            }
                                        ],
                                        "scattergeo": [
                                            {
                                                "marker": {
                                                    "colorbar": {
                                                        "outlinewidth": 0,
                                                        "ticks": ""
                                                    }
                                                },
                                                "type": "scattergeo"
                                            }
                                        ],
                                        "scattergl": [
                                            {
                                                "marker": {
                                                    "colorbar": {
                                                        "outlinewidth": 0,
                                                        "ticks": ""
                                                    }
                                                },
                                                "type": "scattergl"
                                            }
                                        ],
                                        "scattermapbox": [
                                            {
                                                "marker": {
                                                    "colorbar": {
                                                        "outlinewidth": 0,
                                                        "ticks": ""
                                                    }
                                                },
                                                "type": "scattermapbox"
                                            }
                                        ],
                                        "scatterpolar": [
                                            {
                                                "marker": {
                                                    "colorbar": {
                                                        "outlinewidth": 0,
                                                        "ticks": ""
                                                    }
                                                },
                                                "type": "scatterpolar"
                                            }
                                        ],
                                        "scatterpolargl": [
                                            {
                                                "marker": {
                                                    "colorbar": {
                                                        "outlinewidth": 0,
                                                        "ticks": ""
                                                    }
                                                },
                                                "type": "scatterpolargl"
                                            }
                                        ],
                                        "scatterternary": [
                                            {
                                                "marker": {
                                                    "colorbar": {
                                                        "outlinewidth": 0,
                                                        "ticks": ""
                                                    }
                                                },
                                                "type": "scatterternary"
                                            }
                                        ],
                                        "surface": [
                                            {
                                                "colorbar": {
                                                    "outlinewidth": 0,
                                                    "ticks": ""
                                                },
                                                "colorscale": [
                                                    [
                                                        0,
                                                        "#0d0887"
                                                    ],
                                                    [
                                                        0.1111111111111111,
                                                        "#46039f"
                                                    ],
                                                    [
                                                        0.2222222222222222,
                                                        "#7201a8"
                                                    ],
                                                    [
                                                        0.3333333333333333,
                                                        "#9c179e"
                                                    ],
                                                    [
                                                        0.4444444444444444,
                                                        "#bd3786"
                                                    ],
                                                    [
                                                        0.5555555555555556,
                                                        "#d8576b"
                                                    ],
                                                    [
                                                        0.6666666666666666,
                                                        "#ed7953"
                                                    ],
                                                    [
                                                        0.7777777777777778,
                                                        "#fb9f3a"
                                                    ],
                                                    [
                                                        0.8888888888888888,
                                                        "#fdca26"
                                                    ],
                                                    [
                                                        1,
                                                        "#f0f921"
                                                    ]
                                                ],
                                                "type": "surface"
                                            }
                                        ],
                                        "table": [
                                            {
                                                "cells": {
                                                    "fill": {
                                                        "color": "#EBF0F8"
                                                    },
                                                    "line": {
                                                        "color": "white"
                                                    }
                                                },
                                                "header": {
                                                    "fill": {
                                                        "color": "#C8D4E3"
                                                    },
                                                    "line": {
                                                        "color": "white"
                                                    }
                                                },
                                                "type": "table"
                                            }
                                        ]
                                    },
                                    "layout": {
                                        "annotationdefaults": {
                                            "arrowcolor": "#2a3f5f",
                                            "arrowhead": 0,
                                            "arrowwidth": 1
                                        },
                                        "autotypenumbers": "strict",
                                        "coloraxis": {
                                            "colorbar": {
                                                "outlinewidth": 0,
                                                "ticks": ""
                                            }
                                        },
                                        "colorscale": {
                                            "diverging": [
                                                [
                                                    0,
                                                    "#8e0152"
                                                ],
                                                [
                                                    0.1,
                                                    "#c51b7d"
                                                ],
                                                [
                                                    0.2,
                                                    "#de77ae"
                                                ],
                                                [
                                                    0.3,
                                                    "#f1b6da"
                                                ],
                                                [
                                                    0.4,
                                                    "#fde0ef"
                                                ],
                                                [
                                                    0.5,
                                                    "#f7f7f7"
                                                ],
                                                [
                                                    0.6,
                                                    "#e6f5d0"
                                                ],
                                                [
                                                    0.7,
                                                    "#b8e186"
                                                ],
                                                [
                                                    0.8,
                                                    "#7fbc41"
                                                ],
                                                [
                                                    0.9,
                                                    "#4d9221"
                                                ],
                                                [
                                                    1,
                                                    "#276419"
                                                ]
                                            ],
                                            "sequential": [
                                                [
                                                    0,
                                                    "#0d0887"
                                                ],
                                                [
                                                    0.1111111111111111,
                                                    "#46039f"
                                                ],
                                                [
                                                    0.2222222222222222,
                                                    "#7201a8"
                                                ],
                                                [
                                                    0.3333333333333333,
                                                    "#9c179e"
                                                ],
                                                [
                                                    0.4444444444444444,
                                                    "#bd3786"
                                                ],
                                                [
                                                    0.5555555555555556,
                                                    "#d8576b"
                                                ],
                                                [
                                                    0.6666666666666666,
                                                    "#ed7953"
                                                ],
                                                [
                                                    0.7777777777777778,
                                                    "#fb9f3a"
                                                ],
                                                [
                                                    0.8888888888888888,
                                                    "#fdca26"
                                                ],
                                                [
                                                    1,
                                                    "#f0f921"
                                                ]
                                            ],
                                            "sequentialminus": [
                                                [
                                                    0,
                                                    "#0d0887"
                                                ],
                                                [
                                                    0.1111111111111111,
                                                    "#46039f"
                                                ],
                                                [
                                                    0.2222222222222222,
                                                    "#7201a8"
                                                ],
                                                [
                                                    0.3333333333333333,
                                                    "#9c179e"
                                                ],
                                                [
                                                    0.4444444444444444,
                                                    "#bd3786"
                                                ],
                                                [
                                                    0.5555555555555556,
                                                    "#d8576b"
                                                ],
                                                [
                                                    0.6666666666666666,
                                                    "#ed7953"
                                                ],
                                                [
                                                    0.7777777777777778,
                                                    "#fb9f3a"
                                                ],
                                                [
                                                    0.8888888888888888,
                                                    "#fdca26"
                                                ],
                                                [
                                                    1,
                                                    "#f0f921"
                                                ]
                                            ]
                                        },
                                        "colorway": [
                                            "#636efa",
                                            "#EF553B",
                                            "#00cc96",
                                            "#ab63fa",
                                            "#FFA15A",
                                            "#19d3f3",
                                            "#FF6692",
                                            "#B6E880",
                                            "#FF97FF",
                                            "#FECB52"
                                        ],
                                        "font": {
                                            "color": "#2a3f5f"
                                        },
                                        "geo": {
                                            "bgcolor": "white",
                                            "lakecolor": "white",
                                            "landcolor": "#E5ECF6",
                                            "showlakes": true,
                                            "showland": true,
                                            "subunitcolor": "white"
                                        },
                                        "hoverlabel": {
                                            "align": "left"
                                        },
                                        "hovermode": "closest",
                                        "mapbox": {
                                            "style": "light"
                                        },
                                        "paper_bgcolor": "white",
                                        "plot_bgcolor": "#E5ECF6",
                                        "polar": {
                                            "angularaxis": {
                                                "gridcolor": "white",
                                                "linecolor": "white",
                                                "ticks": ""
                                            },
                                            "bgcolor": "#E5ECF6",
                                            "radialaxis": {
                                                "gridcolor": "white",
                                                "linecolor": "white",
                                                "ticks": ""
                                            }
                                        },
                                        "scene": {
                                            "xaxis": {
                                                "backgroundcolor": "#E5ECF6",
                                                "gridcolor": "white",
                                                "gridwidth": 2,
                                                "linecolor": "white",
                                                "showbackground": true,
                                                "ticks": "",
                                                "zerolinecolor": "white"
                                            },
                                            "yaxis": {
                                                "backgroundcolor": "#E5ECF6",
                                                "gridcolor": "white",
                                                "gridwidth": 2,
                                                "linecolor": "white",
                                                "showbackground": true,
                                                "ticks": "",
                                                "zerolinecolor": "white"
                                            },
                                            "zaxis": {
                                                "backgroundcolor": "#E5ECF6",
                                                "gridcolor": "white",
                                                "gridwidth": 2,
                                                "linecolor": "white",
                                                "showbackground": true,
                                                "ticks": "",
                                                "zerolinecolor": "white"
                                            }
                                        },
                                        "shapedefaults": {
                                            "line": {
                                                "color": "#2a3f5f"
                                            }
                                        },
                                        "ternary": {
                                            "aaxis": {
                                                "gridcolor": "white",
                                                "linecolor": "white",
                                                "ticks": ""
                                            },
                                            "baxis": {
                                                "gridcolor": "white",
                                                "linecolor": "white",
                                                "ticks": ""
                                            },
                                            "bgcolor": "#E5ECF6",
                                            "caxis": {
                                                "gridcolor": "white",
                                                "linecolor": "white",
                                                "ticks": ""
                                            }
                                        },
                                        "title": {
                                            "x": 0.05
                                        },
                                        "xaxis": {
                                            "automargin": true,
                                            "gridcolor": "white",
                                            "linecolor": "white",
                                            "ticks": "",
                                            "title": {
                                                "standoff": 15
                                            },
                                            "zerolinecolor": "white",
                                            "zerolinewidth": 2
                                        },
                                        "yaxis": {
                                            "automargin": true,
                                            "gridcolor": "white",
                                            "linecolor": "white",
                                            "ticks": "",
                                            "title": {
                                                "standoff": 15
                                            },
                                            "zerolinecolor": "white",
                                            "zerolinewidth": 2
                                        }
                                    }
                                },
                                "title": {
                                    "text": "Annual Payroll by Firm Size"
                                },
                                "xaxis": {
                                    "anchor": "y",
                                    "domain": [
                                        0,
                                        1
                                    ],
                                    "title": {
                                        "text": "Firm Size"
                                    }
                                },
                                "yaxis": {
                                    "anchor": "x",
                                    "domain": [
                                        0,
                                        1
                                    ],
                                    "title": {
                                        "text": "Annual Payroll"
                                    }
                                }
                            }
                        }
                    },
                    "metadata": {}
                }
            ],
            "execution_count": 34
        },
        {
            "cell_type": "code",
            "execution_count": 28,
            "metadata": {},
            "outputs": [],
            "source": [
                "tech_cleaned2 = tech_cleaned2.sort_values('PAYANN', ascending=False)"
            ]
        },
        {
            "cell_type": "code",
            "execution_count": 29,
            "metadata": {},
            "outputs": [
                {
                    "output_type": "display_data",
                    "data": {
                        "application/vnd.plotly.v1+json": {
                            "config": {
                                "plotlyServerURL": "https://plot.ly"
                            },
                            "data": [
                                {
                                    "alignmentgroup": "True",
                                    "hovertemplate": "Racial Background=%{x}<br>Annual Payroll=%{y}<extra></extra>",
                                    "legendgroup": "",
                                    "marker": {
                                        "color": "#636efa",
                                        "pattern": {
                                            "shape": ""
                                        }
                                    },
                                    "name": "",
                                    "offsetgroup": "",
                                    "orientation": "v",
                                    "showlegend": false,
                                    "textposition": "auto",
                                    "type": "bar",
                                    "x": [
                                        "White",
                                        "White",
                                        "Nonminority",
                                        "White",
                                        "White",
                                        "Nonminority",
                                        "White",
                                        "White",
                                        "Nonminority",
                                        "White",
                                        "White",
                                        "White",
                                        "Nonminority",
                                        "White",
                                        "Minority",
                                        "Nonminority",
                                        "Minority",
                                        "White",
                                        "White",
                                        "White",
                                        "White",
                                        "Nonminority",
                                        "Nonminority",
                                        "White",
                                        "White",
                                        "Nonminority",
                                        "White",
                                        "White",
                                        "White",
                                        "Nonminority",
                                        "White",
                                        "White",
                                        "Nonminority",
                                        "White",
                                        "White",
                                        "White",
                                        "Nonminority",
                                        "Minority",
                                        "Nonminority",
                                        "White",
                                        "Nonminority",
                                        "White",
                                        "Nonminority",
                                        "White",
                                        "White",
                                        "Nonminority",
                                        "Asian",
                                        "Asian",
                                        "White",
                                        "White",
                                        "White",
                                        "White",
                                        "Asian",
                                        "Asian",
                                        "Nonminority",
                                        "Nonminority",
                                        "Nonminority",
                                        "White",
                                        "White",
                                        "Nonminority",
                                        "White",
                                        "Nonminority",
                                        "White",
                                        "White",
                                        "White",
                                        "Nonminority",
                                        "Nonminority",
                                        "Nonminority",
                                        "Nonminority",
                                        "White",
                                        "Nonminority",
                                        "White",
                                        "Nonminority",
                                        "White",
                                        "White",
                                        "Nonminority",
                                        "White",
                                        "White",
                                        "White",
                                        "Asian",
                                        "Asian",
                                        "Nonminority",
                                        "Asian",
                                        "Nonminority",
                                        "White",
                                        "White",
                                        "Nonminority",
                                        "White",
                                        "Minority",
                                        "White",
                                        "White",
                                        "Minority",
                                        "Minority",
                                        "White",
                                        "Asian",
                                        "Asian",
                                        "Minority",
                                        "Asian",
                                        "White",
                                        "Nonminority",
                                        "Minority",
                                        "White",
                                        "White",
                                        "Minority",
                                        "Minority",
                                        "White",
                                        "White",
                                        "Nonminority",
                                        "Nonminority",
                                        "Nonminority",
                                        "White",
                                        "White",
                                        "Minority",
                                        "Minority",
                                        "Asian",
                                        "Asian",
                                        "White",
                                        "Nonminority",
                                        "Minority",
                                        "Asian",
                                        "Nonminority",
                                        "Minority",
                                        "Minority",
                                        "Black or African American",
                                        "Minority",
                                        "Nonminority",
                                        "Minority",
                                        "Black or African American",
                                        "Asian",
                                        "Asian",
                                        "Minority",
                                        "Minority",
                                        "Asian",
                                        "Minority",
                                        "Minority",
                                        "White",
                                        "White",
                                        "White",
                                        "Asian",
                                        "White",
                                        "Minority",
                                        "Nonminority",
                                        "Black or African American",
                                        "Nonminority",
                                        "Nonminority",
                                        "Minority",
                                        "Asian",
                                        "Asian",
                                        "Asian",
                                        "Black or African American",
                                        "Equally minority/nonminority",
                                        "White",
                                        "Minority",
                                        "White",
                                        "Minority",
                                        "Nonminority",
                                        "Minority",
                                        "Nonminority",
                                        "Asian",
                                        "Equally minority/nonminority",
                                        "White",
                                        "Black or African American",
                                        "Asian",
                                        "Asian",
                                        "Asian",
                                        "White",
                                        "Asian",
                                        "Nonminority",
                                        "Asian",
                                        "Asian",
                                        "Asian",
                                        "Asian",
                                        "Asian",
                                        "Black or African American",
                                        "Asian",
                                        "White",
                                        "Nonminority",
                                        "Asian",
                                        "Asian",
                                        "White",
                                        "Asian",
                                        "Minority",
                                        "White",
                                        "Nonminority",
                                        "Nonminority",
                                        "Minority",
                                        "Nonminority",
                                        "Black or African American",
                                        "Minority",
                                        "Asian",
                                        "White",
                                        "Asian",
                                        "Asian",
                                        "Asian",
                                        "White",
                                        "Asian",
                                        "Nonminority",
                                        "Nonminority",
                                        "White",
                                        "White",
                                        "White",
                                        "Nonminority",
                                        "White",
                                        "White",
                                        "Asian",
                                        "Asian",
                                        "White",
                                        "Minority",
                                        "Nonminority",
                                        "Nonminority",
                                        "Equally minority/nonminority",
                                        "Equally minority/nonminority",
                                        "White",
                                        "Minority",
                                        "Minority",
                                        "Asian",
                                        "Asian",
                                        "Asian",
                                        "White",
                                        "White",
                                        "White",
                                        "Asian",
                                        "Minority",
                                        "Black or African American",
                                        "White",
                                        "White",
                                        "Black or African American",
                                        "American Indian and Alaska Native",
                                        "Nonminority",
                                        "White",
                                        "Asian",
                                        "Minority",
                                        "Minority",
                                        "American Indian and Alaska Native",
                                        "White",
                                        "Black or African American",
                                        "Equally minority/nonminority",
                                        "White",
                                        "Nonminority",
                                        "American Indian and Alaska Native",
                                        "Minority",
                                        "Equally minority/nonminority",
                                        "Nonminority",
                                        "American Indian and Alaska Native",
                                        "Asian",
                                        "Black or African American",
                                        "Black or African American",
                                        "Minority",
                                        "White",
                                        "Minority",
                                        "White",
                                        "Nonminority",
                                        "Minority",
                                        "White",
                                        "Black or African American",
                                        "Nonminority",
                                        "Asian",
                                        "Black or African American",
                                        "Asian",
                                        "Black or African American",
                                        "Black or African American",
                                        "White",
                                        "Black or African American",
                                        "American Indian and Alaska Native",
                                        "White",
                                        "Black or African American",
                                        "Asian",
                                        "Black or African American",
                                        "White",
                                        "Black or African American",
                                        "Equally minority/nonminority",
                                        "Black or African American",
                                        "Black or African American",
                                        "American Indian and Alaska Native",
                                        "White",
                                        "Nonminority",
                                        "Equally minority/nonminority",
                                        "Minority",
                                        "Black or African American",
                                        "Equally minority/nonminority",
                                        "Equally minority/nonminority",
                                        "Nonminority",
                                        "White",
                                        "Black or African American",
                                        "Black or African American",
                                        "Nonminority",
                                        "Black or African American",
                                        "Black or African American",
                                        "White",
                                        "American Indian and Alaska Native",
                                        "Black or African American",
                                        "Black or African American",
                                        "Minority",
                                        "Black or African American",
                                        "White",
                                        "Equally minority/nonminority",
                                        "Minority",
                                        "Equally minority/nonminority",
                                        "Asian",
                                        "Asian",
                                        "Asian",
                                        "Asian",
                                        "Black or African American",
                                        "Asian",
                                        "Asian",
                                        "Black or African American",
                                        "Black or African American",
                                        "Equally minority/nonminority",
                                        "Asian",
                                        "Black or African American",
                                        "Minority",
                                        "Black or African American",
                                        "Black or African American",
                                        "White",
                                        "Minority",
                                        "Black or African American",
                                        "White",
                                        "Equally minority/nonminority",
                                        "Black or African American",
                                        "Nonminority",
                                        "Equally minority/nonminority",
                                        "Black or African American",
                                        "Asian",
                                        "Minority",
                                        "Asian",
                                        "Black or African American",
                                        "Black or African American",
                                        "Black or African American",
                                        "White",
                                        "Minority",
                                        "Black or African American",
                                        "Black or African American",
                                        "Equally minority/nonminority",
                                        "Equally minority/nonminority",
                                        "Black or African American",
                                        "White",
                                        "Black or African American",
                                        "Equally minority/nonminority",
                                        "Minority",
                                        "Native Hawaiian and Other Pacific Islander",
                                        "Minority",
                                        "Minority",
                                        "White",
                                        "Native Hawaiian and Other Pacific Islander",
                                        "Equally minority/nonminority",
                                        "Equally minority/nonminority",
                                        "Equally minority/nonminority",
                                        "Minority",
                                        "Equally minority/nonminority",
                                        "Minority",
                                        "Black or African American",
                                        "Black or African American",
                                        "Black or African American",
                                        "Black or African American",
                                        "Native Hawaiian and Other Pacific Islander",
                                        "White",
                                        "Equally minority/nonminority",
                                        "Black or African American",
                                        "Equally minority/nonminority",
                                        "Minority",
                                        "Native Hawaiian and Other Pacific Islander",
                                        "Asian",
                                        "Minority",
                                        "Black or African American",
                                        "Black or African American",
                                        "American Indian and Alaska Native",
                                        "American Indian and Alaska Native",
                                        "Native Hawaiian and Other Pacific Islander",
                                        "Black or African American",
                                        "Asian",
                                        "American Indian and Alaska Native",
                                        "American Indian and Alaska Native",
                                        "American Indian and Alaska Native",
                                        "American Indian and Alaska Native",
                                        "American Indian and Alaska Native",
                                        "American Indian and Alaska Native",
                                        "American Indian and Alaska Native",
                                        "Asian",
                                        "Native Hawaiian and Other Pacific Islander",
                                        "Black or African American",
                                        "Minority",
                                        "American Indian and Alaska Native",
                                        "American Indian and Alaska Native",
                                        "American Indian and Alaska Native",
                                        "Black or African American",
                                        "American Indian and Alaska Native",
                                        "American Indian and Alaska Native",
                                        "Native Hawaiian and Other Pacific Islander",
                                        "Black or African American",
                                        "White",
                                        "American Indian and Alaska Native",
                                        "American Indian and Alaska Native",
                                        "Equally minority/nonminority",
                                        "Equally minority/nonminority",
                                        "American Indian and Alaska Native",
                                        "Black or African American",
                                        "White",
                                        "American Indian and Alaska Native",
                                        "White",
                                        "Equally minority/nonminority",
                                        "American Indian and Alaska Native",
                                        "White",
                                        "Nonminority",
                                        "Nonminority",
                                        "Asian",
                                        "Black or African American",
                                        "Equally minority/nonminority",
                                        "American Indian and Alaska Native",
                                        "American Indian and Alaska Native",
                                        "American Indian and Alaska Native",
                                        "Black or African American",
                                        "Black or African American",
                                        "Black or African American",
                                        "American Indian and Alaska Native",
                                        "Equally minority/nonminority",
                                        "American Indian and Alaska Native",
                                        "Native Hawaiian and Other Pacific Islander",
                                        "Native Hawaiian and Other Pacific Islander",
                                        "American Indian and Alaska Native",
                                        "American Indian and Alaska Native",
                                        "Nonminority",
                                        "Black or African American",
                                        "Equally minority/nonminority",
                                        "Minority",
                                        "Black or African American",
                                        "Black or African American",
                                        "Equally minority/nonminority",
                                        "Equally minority/nonminority",
                                        "Native Hawaiian and Other Pacific Islander",
                                        "Black or African American",
                                        "White",
                                        "American Indian and Alaska Native",
                                        "Black or African American",
                                        "American Indian and Alaska Native",
                                        "Minority",
                                        "White",
                                        "Native Hawaiian and Other Pacific Islander",
                                        "Native Hawaiian and Other Pacific Islander",
                                        "Black or African American",
                                        "Native Hawaiian and Other Pacific Islander",
                                        "Native Hawaiian and Other Pacific Islander",
                                        "Native Hawaiian and Other Pacific Islander",
                                        "Native Hawaiian and Other Pacific Islander",
                                        "Asian",
                                        "Native Hawaiian and Other Pacific Islander",
                                        "American Indian and Alaska Native",
                                        "Native Hawaiian and Other Pacific Islander",
                                        "Native Hawaiian and Other Pacific Islander",
                                        "Black or African American",
                                        "Black or African American",
                                        "Equally minority/nonminority",
                                        "Native Hawaiian and Other Pacific Islander",
                                        "American Indian and Alaska Native",
                                        "Native Hawaiian and Other Pacific Islander",
                                        "Native Hawaiian and Other Pacific Islander",
                                        "Native Hawaiian and Other Pacific Islander",
                                        "Native Hawaiian and Other Pacific Islander",
                                        "Black or African American",
                                        "Black or African American",
                                        "Black or African American",
                                        "Native Hawaiian and Other Pacific Islander",
                                        "American Indian and Alaska Native",
                                        "Asian",
                                        "American Indian and Alaska Native",
                                        "Native Hawaiian and Other Pacific Islander",
                                        "Native Hawaiian and Other Pacific Islander",
                                        "Asian",
                                        "Black or African American",
                                        "Equally minority/nonminority",
                                        "Asian",
                                        "American Indian and Alaska Native",
                                        "Minority",
                                        "Native Hawaiian and Other Pacific Islander",
                                        "Equally minority/nonminority",
                                        "White",
                                        "Native Hawaiian and Other Pacific Islander",
                                        "Native Hawaiian and Other Pacific Islander",
                                        "Black or African American",
                                        "Black or African American",
                                        "Native Hawaiian and Other Pacific Islander",
                                        "Native Hawaiian and Other Pacific Islander",
                                        "Native Hawaiian and Other Pacific Islander",
                                        "Black or African American",
                                        "Black or African American",
                                        "Black or African American",
                                        "Minority",
                                        "American Indian and Alaska Native",
                                        "American Indian and Alaska Native",
                                        "Equally minority/nonminority",
                                        "Native Hawaiian and Other Pacific Islander",
                                        "American Indian and Alaska Native",
                                        "Black or African American",
                                        "American Indian and Alaska Native",
                                        "Native Hawaiian and Other Pacific Islander",
                                        "Native Hawaiian and Other Pacific Islander",
                                        "Asian",
                                        "American Indian and Alaska Native",
                                        "Native Hawaiian and Other Pacific Islander",
                                        "Black or African American",
                                        "American Indian and Alaska Native",
                                        "Asian",
                                        "Native Hawaiian and Other Pacific Islander",
                                        "Native Hawaiian and Other Pacific Islander",
                                        "Equally minority/nonminority",
                                        "American Indian and Alaska Native",
                                        "Asian",
                                        "Native Hawaiian and Other Pacific Islander",
                                        "Asian",
                                        "Native Hawaiian and Other Pacific Islander",
                                        "American Indian and Alaska Native",
                                        "Asian",
                                        "Asian",
                                        "Asian",
                                        "Asian",
                                        "White",
                                        "Asian",
                                        "American Indian and Alaska Native",
                                        "White",
                                        "Minority",
                                        "Native Hawaiian and Other Pacific Islander",
                                        "Equally minority/nonminority",
                                        "Minority",
                                        "Black or African American",
                                        "White",
                                        "Black or African American",
                                        "Equally minority/nonminority",
                                        "American Indian and Alaska Native",
                                        "American Indian and Alaska Native",
                                        "American Indian and Alaska Native",
                                        "American Indian and Alaska Native",
                                        "American Indian and Alaska Native",
                                        "Equally minority/nonminority",
                                        "Equally minority/nonminority",
                                        "Equally minority/nonminority",
                                        "Equally minority/nonminority",
                                        "Equally minority/nonminority",
                                        "Native Hawaiian and Other Pacific Islander",
                                        "Minority",
                                        "Minority",
                                        "Native Hawaiian and Other Pacific Islander",
                                        "Minority",
                                        "Nonminority",
                                        "Minority",
                                        "Black or African American",
                                        "Native Hawaiian and Other Pacific Islander",
                                        "Minority",
                                        "Black or African American",
                                        "Black or African American",
                                        "Minority",
                                        "Equally minority/nonminority",
                                        "Native Hawaiian and Other Pacific Islander",
                                        "Minority",
                                        "Equally minority/nonminority",
                                        "Native Hawaiian and Other Pacific Islander",
                                        "Native Hawaiian and Other Pacific Islander",
                                        "Native Hawaiian and Other Pacific Islander",
                                        "Native Hawaiian and Other Pacific Islander",
                                        "Black or African American",
                                        "Black or African American",
                                        "Asian",
                                        "Asian",
                                        "Asian",
                                        "Asian",
                                        "Asian",
                                        "Asian",
                                        "Asian",
                                        "Asian",
                                        "Asian",
                                        "Asian",
                                        "Asian",
                                        "Native Hawaiian and Other Pacific Islander",
                                        "Native Hawaiian and Other Pacific Islander",
                                        "Native Hawaiian and Other Pacific Islander",
                                        "Native Hawaiian and Other Pacific Islander",
                                        "Black or African American",
                                        "Black or African American",
                                        "Black or African American",
                                        "Black or African American",
                                        "Black or African American",
                                        "Native Hawaiian and Other Pacific Islander",
                                        "Native Hawaiian and Other Pacific Islander",
                                        "Native Hawaiian and Other Pacific Islander",
                                        "Native Hawaiian and Other Pacific Islander",
                                        "Black or African American",
                                        "Black or African American",
                                        "Black or African American",
                                        "Black or African American",
                                        "Native Hawaiian and Other Pacific Islander",
                                        "Native Hawaiian and Other Pacific Islander",
                                        "Asian",
                                        "Asian",
                                        "Asian",
                                        "White",
                                        "American Indian and Alaska Native",
                                        "American Indian and Alaska Native",
                                        "White",
                                        "White",
                                        "American Indian and Alaska Native",
                                        "American Indian and Alaska Native",
                                        "American Indian and Alaska Native",
                                        "American Indian and Alaska Native",
                                        "American Indian and Alaska Native",
                                        "American Indian and Alaska Native",
                                        "American Indian and Alaska Native",
                                        "American Indian and Alaska Native",
                                        "American Indian and Alaska Native",
                                        "American Indian and Alaska Native",
                                        "American Indian and Alaska Native",
                                        "American Indian and Alaska Native",
                                        "American Indian and Alaska Native",
                                        "American Indian and Alaska Native",
                                        "Asian",
                                        "Asian",
                                        "Asian",
                                        "White",
                                        "White",
                                        "White",
                                        "White",
                                        "Asian",
                                        "American Indian and Alaska Native",
                                        "White",
                                        "White",
                                        "American Indian and Alaska Native",
                                        "White",
                                        "American Indian and Alaska Native",
                                        "American Indian and Alaska Native",
                                        "Native Hawaiian and Other Pacific Islander",
                                        "Native Hawaiian and Other Pacific Islander",
                                        "Native Hawaiian and Other Pacific Islander",
                                        "Equally minority/nonminority",
                                        "American Indian and Alaska Native",
                                        "American Indian and Alaska Native",
                                        "American Indian and Alaska Native",
                                        "White",
                                        "White",
                                        "American Indian and Alaska Native",
                                        "American Indian and Alaska Native",
                                        "American Indian and Alaska Native",
                                        "Nonminority",
                                        "Nonminority",
                                        "Nonminority",
                                        "Nonminority",
                                        "Equally minority/nonminority",
                                        "Equally minority/nonminority",
                                        "Equally minority/nonminority",
                                        "White",
                                        "White",
                                        "Black or African American",
                                        "American Indian and Alaska Native",
                                        "Native Hawaiian and Other Pacific Islander",
                                        "Native Hawaiian and Other Pacific Islander",
                                        "Asian",
                                        "Asian",
                                        "Asian",
                                        "American Indian and Alaska Native",
                                        "American Indian and Alaska Native",
                                        "Black or African American",
                                        "American Indian and Alaska Native",
                                        "Black or African American",
                                        "Asian",
                                        "Asian",
                                        "Black or African American",
                                        "Black or African American",
                                        "Equally minority/nonminority",
                                        "Equally minority/nonminority",
                                        "Black or African American",
                                        "Equally minority/nonminority",
                                        "Native Hawaiian and Other Pacific Islander",
                                        "Native Hawaiian and Other Pacific Islander",
                                        "American Indian and Alaska Native",
                                        "American Indian and Alaska Native",
                                        "American Indian and Alaska Native",
                                        "Native Hawaiian and Other Pacific Islander",
                                        "Native Hawaiian and Other Pacific Islander",
                                        "Native Hawaiian and Other Pacific Islander",
                                        "Native Hawaiian and Other Pacific Islander",
                                        "Native Hawaiian and Other Pacific Islander",
                                        "Native Hawaiian and Other Pacific Islander",
                                        "Native Hawaiian and Other Pacific Islander",
                                        "Native Hawaiian and Other Pacific Islander",
                                        "Native Hawaiian and Other Pacific Islander",
                                        "Black or African American",
                                        "American Indian and Alaska Native",
                                        "American Indian and Alaska Native",
                                        "American Indian and Alaska Native",
                                        "Equally minority/nonminority",
                                        "Equally minority/nonminority",
                                        "Equally minority/nonminority",
                                        "Equally minority/nonminority",
                                        "Equally minority/nonminority",
                                        "Equally minority/nonminority",
                                        "Equally minority/nonminority",
                                        "American Indian and Alaska Native",
                                        "American Indian and Alaska Native",
                                        "Equally minority/nonminority",
                                        "Nonminority",
                                        "Native Hawaiian and Other Pacific Islander",
                                        "Native Hawaiian and Other Pacific Islander",
                                        "Native Hawaiian and Other Pacific Islander",
                                        "Native Hawaiian and Other Pacific Islander",
                                        "Asian"
                                    ],
                                    "xaxis": "x",
                                    "y": [
                                        343097085,
                                        330458358,
                                        327816178,
                                        311686266,
                                        300257746,
                                        297874654,
                                        270294410,
                                        261266677,
                                        259490561,
                                        242081282,
                                        60237714,
                                        57680204,
                                        57052365,
                                        55786937,
                                        53868004,
                                        52883752,
                                        50773024,
                                        50532738,
                                        49798941,
                                        49021792,
                                        48021543,
                                        47423728,
                                        46392997,
                                        45351500,
                                        43375060,
                                        43033658,
                                        42309978,
                                        41603573,
                                        41590500,
                                        41489566,
                                        40823275,
                                        40364997,
                                        40203395,
                                        39699730,
                                        39661950,
                                        39323926,
                                        39113262,
                                        38763010,
                                        38644989,
                                        38001598,
                                        37748342,
                                        37554333,
                                        37130512,
                                        36689972,
                                        36130910,
                                        35465443,
                                        35142452,
                                        35017369,
                                        34982502,
                                        34733746,
                                        34609208,
                                        34522979,
                                        34483686,
                                        34360650,
                                        33915315,
                                        33795352,
                                        33249547,
                                        33149578,
                                        32912274,
                                        32885429,
                                        32685976,
                                        32601087,
                                        32577802,
                                        31988298,
                                        31927250,
                                        31886279,
                                        31786428,
                                        31579213,
                                        29662813,
                                        29402844,
                                        28924901,
                                        28310173,
                                        27931304,
                                        27713008,
                                        26450770,
                                        26151086,
                                        25772673,
                                        25621417,
                                        25418235,
                                        25238475,
                                        25207634,
                                        25180393,
                                        24606306,
                                        24185855,
                                        22269937,
                                        21170138,
                                        20901889,
                                        19806043,
                                        12841762,
                                        10875384,
                                        9799111,
                                        9581109,
                                        9063838,
                                        8163779,
                                        8127788,
                                        8101190,
                                        8074122,
                                        8034503,
                                        8001915,
                                        7396433,
                                        7327466,
                                        7208032,
                                        7061213,
                                        7021058,
                                        6817454,
                                        6758963,
                                        6740717,
                                        6711362,
                                        6670974,
                                        6502868,
                                        6497635,
                                        6491602,
                                        6485990,
                                        6484256,
                                        6249713,
                                        6189461,
                                        6167756,
                                        6134595,
                                        6117469,
                                        6077073,
                                        5974371,
                                        5935322,
                                        5895096,
                                        5880142,
                                        5825744,
                                        5823903,
                                        5708941,
                                        5600042,
                                        5479940,
                                        5479940,
                                        5475089,
                                        5450992,
                                        5301872,
                                        5191790,
                                        5030153,
                                        5000421,
                                        4960049,
                                        4897584,
                                        4793558,
                                        4782378,
                                        4778301,
                                        4761131,
                                        4747799,
                                        4662935,
                                        4650076,
                                        4645878,
                                        4613975,
                                        4613975,
                                        4518229,
                                        4481468,
                                        4467125,
                                        4456959,
                                        4432724,
                                        4372699,
                                        4351511,
                                        4281313,
                                        4265040,
                                        4156501,
                                        4146823,
                                        4101139,
                                        4085031,
                                        4024759,
                                        3959371,
                                        3950272,
                                        3950272,
                                        3947028,
                                        3943693,
                                        3922454,
                                        3901280,
                                        3901280,
                                        3895296,
                                        3892840,
                                        3882361,
                                        3867635,
                                        3754890,
                                        3620490,
                                        3582993,
                                        3535242,
                                        3525683,
                                        3515074,
                                        3511105,
                                        3497082,
                                        3480180,
                                        3436867,
                                        3397534,
                                        3273407,
                                        3226221,
                                        3184213,
                                        2991819,
                                        2982818,
                                        2863450,
                                        2834477,
                                        2807254,
                                        2800708,
                                        2699441,
                                        2622901,
                                        2591329,
                                        2567774,
                                        2510470,
                                        2488727,
                                        2478869,
                                        2442596,
                                        2440455,
                                        2436489,
                                        2429138,
                                        2408648,
                                        2339782,
                                        2263232,
                                        2260889,
                                        2236323,
                                        2188839,
                                        2172796,
                                        2083031,
                                        1989694,
                                        1919611,
                                        1776190,
                                        1776190,
                                        1775232,
                                        1763342,
                                        1750112,
                                        1724166,
                                        1714830,
                                        1697664,
                                        1659265,
                                        1637529,
                                        1629409,
                                        1567869,
                                        1530313,
                                        1519053,
                                        1502821,
                                        1501942,
                                        1490534,
                                        1425780,
                                        1417027,
                                        1386198,
                                        1379005,
                                        1362562,
                                        1344961,
                                        1344146,
                                        1343443,
                                        1306638,
                                        1291658,
                                        1291255,
                                        1242433,
                                        1168958,
                                        1118768,
                                        1104998,
                                        1035639,
                                        1029483,
                                        1027757,
                                        1013151,
                                        991136,
                                        978936,
                                        970597,
                                        958580,
                                        942393,
                                        938449,
                                        928548,
                                        911615,
                                        890889,
                                        868731,
                                        867062,
                                        866387,
                                        864306,
                                        863954,
                                        859391,
                                        855478,
                                        838507,
                                        831599,
                                        813163,
                                        809215,
                                        801851,
                                        797186,
                                        794215,
                                        777431,
                                        767386,
                                        767015,
                                        746656,
                                        739150,
                                        728529,
                                        720066,
                                        716785,
                                        715470,
                                        708903,
                                        706736,
                                        701952,
                                        701857,
                                        701296,
                                        690094,
                                        677852,
                                        673367,
                                        666320,
                                        659633,
                                        658998,
                                        650692,
                                        644316,
                                        640440,
                                        638512,
                                        623816,
                                        621768,
                                        618182,
                                        614252,
                                        599261,
                                        597218,
                                        595761,
                                        593150,
                                        591421,
                                        589501,
                                        571233,
                                        567221,
                                        562720,
                                        559071,
                                        533883,
                                        533074,
                                        512362,
                                        444887,
                                        443666,
                                        435434,
                                        423412,
                                        418867,
                                        406719,
                                        396341,
                                        384870,
                                        384275,
                                        381765,
                                        367159,
                                        361327,
                                        360758,
                                        357505,
                                        350655,
                                        349555,
                                        349555,
                                        349355,
                                        348242,
                                        340254,
                                        330103,
                                        318216,
                                        312988,
                                        292222,
                                        282612,
                                        275424,
                                        273744,
                                        266573,
                                        262237,
                                        261777,
                                        261605,
                                        257193,
                                        256247,
                                        255671,
                                        250050,
                                        249670,
                                        249047,
                                        235277,
                                        235170,
                                        233003,
                                        232736,
                                        228100,
                                        218087,
                                        216524,
                                        215340,
                                        212628,
                                        208032,
                                        204034,
                                        196118,
                                        196068,
                                        192236,
                                        189906,
                                        186180,
                                        184581,
                                        178067,
                                        177804,
                                        177341,
                                        175292,
                                        174875,
                                        174618,
                                        174595,
                                        170800,
                                        169360,
                                        166133,
                                        164538,
                                        164087,
                                        161992,
                                        161992,
                                        161992,
                                        157124,
                                        155051,
                                        155051,
                                        154148,
                                        153488,
                                        148788,
                                        145546,
                                        145075,
                                        141669,
                                        136229,
                                        134739,
                                        131468,
                                        130881,
                                        127681,
                                        125945,
                                        125548,
                                        124207,
                                        121521,
                                        117513,
                                        115414,
                                        115149,
                                        113945,
                                        111212,
                                        109797,
                                        108807,
                                        108807,
                                        106525,
                                        104499,
                                        101796,
                                        101186,
                                        100088,
                                        96887,
                                        95904,
                                        95575,
                                        95173,
                                        94965,
                                        92358,
                                        91396,
                                        90187,
                                        83784,
                                        83712,
                                        81798,
                                        81537,
                                        79801,
                                        78430,
                                        76705,
                                        72094,
                                        71337,
                                        68224,
                                        65855,
                                        54702,
                                        53922,
                                        52964,
                                        51226,
                                        49904,
                                        49342,
                                        49342,
                                        45526,
                                        45526,
                                        45138,
                                        44835,
                                        42228,
                                        41457,
                                        40527,
                                        39679,
                                        38790,
                                        35902,
                                        33973,
                                        31810,
                                        31285,
                                        31091,
                                        31091,
                                        31091,
                                        31053,
                                        31053,
                                        31053,
                                        30873,
                                        30844,
                                        30841,
                                        30259,
                                        28052,
                                        26717,
                                        26597,
                                        24960,
                                        23559,
                                        22276,
                                        21436,
                                        19686,
                                        17474,
                                        16631,
                                        16311,
                                        14654,
                                        13664,
                                        13576,
                                        13576,
                                        12809,
                                        12770,
                                        12752,
                                        12179,
                                        12149,
                                        11537,
                                        11041,
                                        10480,
                                        10480,
                                        9700,
                                        9514,
                                        9513,
                                        9404,
                                        4913,
                                        4083,
                                        4083,
                                        3930,
                                        2863,
                                        2688,
                                        2344,
                                        2213,
                                        2047,
                                        1877,
                                        1762,
                                        1424,
                                        323,
                                        146,
                                        103,
                                        0,
                                        0,
                                        0,
                                        0,
                                        0,
                                        0,
                                        0,
                                        0,
                                        0,
                                        0,
                                        0,
                                        0,
                                        0,
                                        0,
                                        0,
                                        0,
                                        0,
                                        0,
                                        0,
                                        0,
                                        0,
                                        0,
                                        0,
                                        0,
                                        0,
                                        0,
                                        0,
                                        0,
                                        0,
                                        0,
                                        0,
                                        0,
                                        0,
                                        0,
                                        0,
                                        0,
                                        0,
                                        0,
                                        0,
                                        0,
                                        0,
                                        0,
                                        0,
                                        0,
                                        0,
                                        0,
                                        0,
                                        0,
                                        0,
                                        0,
                                        0,
                                        0,
                                        0,
                                        0,
                                        0,
                                        0,
                                        0,
                                        0,
                                        0,
                                        0,
                                        0,
                                        0,
                                        0,
                                        0,
                                        0,
                                        0,
                                        0,
                                        0,
                                        0,
                                        0,
                                        0,
                                        0,
                                        0,
                                        0,
                                        0,
                                        0,
                                        0,
                                        0,
                                        0,
                                        0,
                                        0,
                                        0,
                                        0,
                                        0,
                                        0,
                                        0,
                                        0,
                                        0,
                                        0,
                                        0,
                                        0,
                                        0,
                                        0,
                                        0,
                                        0,
                                        0,
                                        0,
                                        0,
                                        0,
                                        0,
                                        0,
                                        0,
                                        0,
                                        0,
                                        0,
                                        0,
                                        0,
                                        0,
                                        0,
                                        0,
                                        0,
                                        0,
                                        0,
                                        0,
                                        0,
                                        0,
                                        0,
                                        0,
                                        0,
                                        0,
                                        0,
                                        0,
                                        0,
                                        0,
                                        0,
                                        0,
                                        0,
                                        0,
                                        0,
                                        0,
                                        0,
                                        0,
                                        0,
                                        0,
                                        0,
                                        0,
                                        0,
                                        0,
                                        0,
                                        0,
                                        0,
                                        0,
                                        0,
                                        0,
                                        0,
                                        0,
                                        0,
                                        0,
                                        0,
                                        0,
                                        0,
                                        0,
                                        0,
                                        0,
                                        0,
                                        0,
                                        0,
                                        0,
                                        0,
                                        0,
                                        0,
                                        0,
                                        0,
                                        0,
                                        0,
                                        0,
                                        0,
                                        0,
                                        0,
                                        0,
                                        0,
                                        0,
                                        0,
                                        0,
                                        0,
                                        0,
                                        0,
                                        0,
                                        0,
                                        0,
                                        0,
                                        0,
                                        0,
                                        0,
                                        0,
                                        0,
                                        0,
                                        0,
                                        0,
                                        0,
                                        0,
                                        0,
                                        0,
                                        0
                                    ],
                                    "yaxis": "y"
                                }
                            ],
                            "layout": {
                                "barmode": "relative",
                                "legend": {
                                    "tracegroupgap": 0
                                },
                                "template": {
                                    "data": {
                                        "bar": [
                                            {
                                                "error_x": {
                                                    "color": "#2a3f5f"
                                                },
                                                "error_y": {
                                                    "color": "#2a3f5f"
                                                },
                                                "marker": {
                                                    "line": {
                                                        "color": "#E5ECF6",
                                                        "width": 0.5
                                                    },
                                                    "pattern": {
                                                        "fillmode": "overlay",
                                                        "size": 10,
                                                        "solidity": 0.2
                                                    }
                                                },
                                                "type": "bar"
                                            }
                                        ],
                                        "barpolar": [
                                            {
                                                "marker": {
                                                    "line": {
                                                        "color": "#E5ECF6",
                                                        "width": 0.5
                                                    },
                                                    "pattern": {
                                                        "fillmode": "overlay",
                                                        "size": 10,
                                                        "solidity": 0.2
                                                    }
                                                },
                                                "type": "barpolar"
                                            }
                                        ],
                                        "carpet": [
                                            {
                                                "aaxis": {
                                                    "endlinecolor": "#2a3f5f",
                                                    "gridcolor": "white",
                                                    "linecolor": "white",
                                                    "minorgridcolor": "white",
                                                    "startlinecolor": "#2a3f5f"
                                                },
                                                "baxis": {
                                                    "endlinecolor": "#2a3f5f",
                                                    "gridcolor": "white",
                                                    "linecolor": "white",
                                                    "minorgridcolor": "white",
                                                    "startlinecolor": "#2a3f5f"
                                                },
                                                "type": "carpet"
                                            }
                                        ],
                                        "choropleth": [
                                            {
                                                "colorbar": {
                                                    "outlinewidth": 0,
                                                    "ticks": ""
                                                },
                                                "type": "choropleth"
                                            }
                                        ],
                                        "contour": [
                                            {
                                                "colorbar": {
                                                    "outlinewidth": 0,
                                                    "ticks": ""
                                                },
                                                "colorscale": [
                                                    [
                                                        0,
                                                        "#0d0887"
                                                    ],
                                                    [
                                                        0.1111111111111111,
                                                        "#46039f"
                                                    ],
                                                    [
                                                        0.2222222222222222,
                                                        "#7201a8"
                                                    ],
                                                    [
                                                        0.3333333333333333,
                                                        "#9c179e"
                                                    ],
                                                    [
                                                        0.4444444444444444,
                                                        "#bd3786"
                                                    ],
                                                    [
                                                        0.5555555555555556,
                                                        "#d8576b"
                                                    ],
                                                    [
                                                        0.6666666666666666,
                                                        "#ed7953"
                                                    ],
                                                    [
                                                        0.7777777777777778,
                                                        "#fb9f3a"
                                                    ],
                                                    [
                                                        0.8888888888888888,
                                                        "#fdca26"
                                                    ],
                                                    [
                                                        1,
                                                        "#f0f921"
                                                    ]
                                                ],
                                                "type": "contour"
                                            }
                                        ],
                                        "contourcarpet": [
                                            {
                                                "colorbar": {
                                                    "outlinewidth": 0,
                                                    "ticks": ""
                                                },
                                                "type": "contourcarpet"
                                            }
                                        ],
                                        "heatmap": [
                                            {
                                                "colorbar": {
                                                    "outlinewidth": 0,
                                                    "ticks": ""
                                                },
                                                "colorscale": [
                                                    [
                                                        0,
                                                        "#0d0887"
                                                    ],
                                                    [
                                                        0.1111111111111111,
                                                        "#46039f"
                                                    ],
                                                    [
                                                        0.2222222222222222,
                                                        "#7201a8"
                                                    ],
                                                    [
                                                        0.3333333333333333,
                                                        "#9c179e"
                                                    ],
                                                    [
                                                        0.4444444444444444,
                                                        "#bd3786"
                                                    ],
                                                    [
                                                        0.5555555555555556,
                                                        "#d8576b"
                                                    ],
                                                    [
                                                        0.6666666666666666,
                                                        "#ed7953"
                                                    ],
                                                    [
                                                        0.7777777777777778,
                                                        "#fb9f3a"
                                                    ],
                                                    [
                                                        0.8888888888888888,
                                                        "#fdca26"
                                                    ],
                                                    [
                                                        1,
                                                        "#f0f921"
                                                    ]
                                                ],
                                                "type": "heatmap"
                                            }
                                        ],
                                        "heatmapgl": [
                                            {
                                                "colorbar": {
                                                    "outlinewidth": 0,
                                                    "ticks": ""
                                                },
                                                "colorscale": [
                                                    [
                                                        0,
                                                        "#0d0887"
                                                    ],
                                                    [
                                                        0.1111111111111111,
                                                        "#46039f"
                                                    ],
                                                    [
                                                        0.2222222222222222,
                                                        "#7201a8"
                                                    ],
                                                    [
                                                        0.3333333333333333,
                                                        "#9c179e"
                                                    ],
                                                    [
                                                        0.4444444444444444,
                                                        "#bd3786"
                                                    ],
                                                    [
                                                        0.5555555555555556,
                                                        "#d8576b"
                                                    ],
                                                    [
                                                        0.6666666666666666,
                                                        "#ed7953"
                                                    ],
                                                    [
                                                        0.7777777777777778,
                                                        "#fb9f3a"
                                                    ],
                                                    [
                                                        0.8888888888888888,
                                                        "#fdca26"
                                                    ],
                                                    [
                                                        1,
                                                        "#f0f921"
                                                    ]
                                                ],
                                                "type": "heatmapgl"
                                            }
                                        ],
                                        "histogram": [
                                            {
                                                "marker": {
                                                    "pattern": {
                                                        "fillmode": "overlay",
                                                        "size": 10,
                                                        "solidity": 0.2
                                                    }
                                                },
                                                "type": "histogram"
                                            }
                                        ],
                                        "histogram2d": [
                                            {
                                                "colorbar": {
                                                    "outlinewidth": 0,
                                                    "ticks": ""
                                                },
                                                "colorscale": [
                                                    [
                                                        0,
                                                        "#0d0887"
                                                    ],
                                                    [
                                                        0.1111111111111111,
                                                        "#46039f"
                                                    ],
                                                    [
                                                        0.2222222222222222,
                                                        "#7201a8"
                                                    ],
                                                    [
                                                        0.3333333333333333,
                                                        "#9c179e"
                                                    ],
                                                    [
                                                        0.4444444444444444,
                                                        "#bd3786"
                                                    ],
                                                    [
                                                        0.5555555555555556,
                                                        "#d8576b"
                                                    ],
                                                    [
                                                        0.6666666666666666,
                                                        "#ed7953"
                                                    ],
                                                    [
                                                        0.7777777777777778,
                                                        "#fb9f3a"
                                                    ],
                                                    [
                                                        0.8888888888888888,
                                                        "#fdca26"
                                                    ],
                                                    [
                                                        1,
                                                        "#f0f921"
                                                    ]
                                                ],
                                                "type": "histogram2d"
                                            }
                                        ],
                                        "histogram2dcontour": [
                                            {
                                                "colorbar": {
                                                    "outlinewidth": 0,
                                                    "ticks": ""
                                                },
                                                "colorscale": [
                                                    [
                                                        0,
                                                        "#0d0887"
                                                    ],
                                                    [
                                                        0.1111111111111111,
                                                        "#46039f"
                                                    ],
                                                    [
                                                        0.2222222222222222,
                                                        "#7201a8"
                                                    ],
                                                    [
                                                        0.3333333333333333,
                                                        "#9c179e"
                                                    ],
                                                    [
                                                        0.4444444444444444,
                                                        "#bd3786"
                                                    ],
                                                    [
                                                        0.5555555555555556,
                                                        "#d8576b"
                                                    ],
                                                    [
                                                        0.6666666666666666,
                                                        "#ed7953"
                                                    ],
                                                    [
                                                        0.7777777777777778,
                                                        "#fb9f3a"
                                                    ],
                                                    [
                                                        0.8888888888888888,
                                                        "#fdca26"
                                                    ],
                                                    [
                                                        1,
                                                        "#f0f921"
                                                    ]
                                                ],
                                                "type": "histogram2dcontour"
                                            }
                                        ],
                                        "mesh3d": [
                                            {
                                                "colorbar": {
                                                    "outlinewidth": 0,
                                                    "ticks": ""
                                                },
                                                "type": "mesh3d"
                                            }
                                        ],
                                        "parcoords": [
                                            {
                                                "line": {
                                                    "colorbar": {
                                                        "outlinewidth": 0,
                                                        "ticks": ""
                                                    }
                                                },
                                                "type": "parcoords"
                                            }
                                        ],
                                        "pie": [
                                            {
                                                "automargin": true,
                                                "type": "pie"
                                            }
                                        ],
                                        "scatter": [
                                            {
                                                "marker": {
                                                    "colorbar": {
                                                        "outlinewidth": 0,
                                                        "ticks": ""
                                                    }
                                                },
                                                "type": "scatter"
                                            }
                                        ],
                                        "scatter3d": [
                                            {
                                                "line": {
                                                    "colorbar": {
                                                        "outlinewidth": 0,
                                                        "ticks": ""
                                                    }
                                                },
                                                "marker": {
                                                    "colorbar": {
                                                        "outlinewidth": 0,
                                                        "ticks": ""
                                                    }
                                                },
                                                "type": "scatter3d"
                                            }
                                        ],
                                        "scattercarpet": [
                                            {
                                                "marker": {
                                                    "colorbar": {
                                                        "outlinewidth": 0,
                                                        "ticks": ""
                                                    }
                                                },
                                                "type": "scattercarpet"
                                            }
                                        ],
                                        "scattergeo": [
                                            {
                                                "marker": {
                                                    "colorbar": {
                                                        "outlinewidth": 0,
                                                        "ticks": ""
                                                    }
                                                },
                                                "type": "scattergeo"
                                            }
                                        ],
                                        "scattergl": [
                                            {
                                                "marker": {
                                                    "colorbar": {
                                                        "outlinewidth": 0,
                                                        "ticks": ""
                                                    }
                                                },
                                                "type": "scattergl"
                                            }
                                        ],
                                        "scattermapbox": [
                                            {
                                                "marker": {
                                                    "colorbar": {
                                                        "outlinewidth": 0,
                                                        "ticks": ""
                                                    }
                                                },
                                                "type": "scattermapbox"
                                            }
                                        ],
                                        "scatterpolar": [
                                            {
                                                "marker": {
                                                    "colorbar": {
                                                        "outlinewidth": 0,
                                                        "ticks": ""
                                                    }
                                                },
                                                "type": "scatterpolar"
                                            }
                                        ],
                                        "scatterpolargl": [
                                            {
                                                "marker": {
                                                    "colorbar": {
                                                        "outlinewidth": 0,
                                                        "ticks": ""
                                                    }
                                                },
                                                "type": "scatterpolargl"
                                            }
                                        ],
                                        "scatterternary": [
                                            {
                                                "marker": {
                                                    "colorbar": {
                                                        "outlinewidth": 0,
                                                        "ticks": ""
                                                    }
                                                },
                                                "type": "scatterternary"
                                            }
                                        ],
                                        "surface": [
                                            {
                                                "colorbar": {
                                                    "outlinewidth": 0,
                                                    "ticks": ""
                                                },
                                                "colorscale": [
                                                    [
                                                        0,
                                                        "#0d0887"
                                                    ],
                                                    [
                                                        0.1111111111111111,
                                                        "#46039f"
                                                    ],
                                                    [
                                                        0.2222222222222222,
                                                        "#7201a8"
                                                    ],
                                                    [
                                                        0.3333333333333333,
                                                        "#9c179e"
                                                    ],
                                                    [
                                                        0.4444444444444444,
                                                        "#bd3786"
                                                    ],
                                                    [
                                                        0.5555555555555556,
                                                        "#d8576b"
                                                    ],
                                                    [
                                                        0.6666666666666666,
                                                        "#ed7953"
                                                    ],
                                                    [
                                                        0.7777777777777778,
                                                        "#fb9f3a"
                                                    ],
                                                    [
                                                        0.8888888888888888,
                                                        "#fdca26"
                                                    ],
                                                    [
                                                        1,
                                                        "#f0f921"
                                                    ]
                                                ],
                                                "type": "surface"
                                            }
                                        ],
                                        "table": [
                                            {
                                                "cells": {
                                                    "fill": {
                                                        "color": "#EBF0F8"
                                                    },
                                                    "line": {
                                                        "color": "white"
                                                    }
                                                },
                                                "header": {
                                                    "fill": {
                                                        "color": "#C8D4E3"
                                                    },
                                                    "line": {
                                                        "color": "white"
                                                    }
                                                },
                                                "type": "table"
                                            }
                                        ]
                                    },
                                    "layout": {
                                        "annotationdefaults": {
                                            "arrowcolor": "#2a3f5f",
                                            "arrowhead": 0,
                                            "arrowwidth": 1
                                        },
                                        "autotypenumbers": "strict",
                                        "coloraxis": {
                                            "colorbar": {
                                                "outlinewidth": 0,
                                                "ticks": ""
                                            }
                                        },
                                        "colorscale": {
                                            "diverging": [
                                                [
                                                    0,
                                                    "#8e0152"
                                                ],
                                                [
                                                    0.1,
                                                    "#c51b7d"
                                                ],
                                                [
                                                    0.2,
                                                    "#de77ae"
                                                ],
                                                [
                                                    0.3,
                                                    "#f1b6da"
                                                ],
                                                [
                                                    0.4,
                                                    "#fde0ef"
                                                ],
                                                [
                                                    0.5,
                                                    "#f7f7f7"
                                                ],
                                                [
                                                    0.6,
                                                    "#e6f5d0"
                                                ],
                                                [
                                                    0.7,
                                                    "#b8e186"
                                                ],
                                                [
                                                    0.8,
                                                    "#7fbc41"
                                                ],
                                                [
                                                    0.9,
                                                    "#4d9221"
                                                ],
                                                [
                                                    1,
                                                    "#276419"
                                                ]
                                            ],
                                            "sequential": [
                                                [
                                                    0,
                                                    "#0d0887"
                                                ],
                                                [
                                                    0.1111111111111111,
                                                    "#46039f"
                                                ],
                                                [
                                                    0.2222222222222222,
                                                    "#7201a8"
                                                ],
                                                [
                                                    0.3333333333333333,
                                                    "#9c179e"
                                                ],
                                                [
                                                    0.4444444444444444,
                                                    "#bd3786"
                                                ],
                                                [
                                                    0.5555555555555556,
                                                    "#d8576b"
                                                ],
                                                [
                                                    0.6666666666666666,
                                                    "#ed7953"
                                                ],
                                                [
                                                    0.7777777777777778,
                                                    "#fb9f3a"
                                                ],
                                                [
                                                    0.8888888888888888,
                                                    "#fdca26"
                                                ],
                                                [
                                                    1,
                                                    "#f0f921"
                                                ]
                                            ],
                                            "sequentialminus": [
                                                [
                                                    0,
                                                    "#0d0887"
                                                ],
                                                [
                                                    0.1111111111111111,
                                                    "#46039f"
                                                ],
                                                [
                                                    0.2222222222222222,
                                                    "#7201a8"
                                                ],
                                                [
                                                    0.3333333333333333,
                                                    "#9c179e"
                                                ],
                                                [
                                                    0.4444444444444444,
                                                    "#bd3786"
                                                ],
                                                [
                                                    0.5555555555555556,
                                                    "#d8576b"
                                                ],
                                                [
                                                    0.6666666666666666,
                                                    "#ed7953"
                                                ],
                                                [
                                                    0.7777777777777778,
                                                    "#fb9f3a"
                                                ],
                                                [
                                                    0.8888888888888888,
                                                    "#fdca26"
                                                ],
                                                [
                                                    1,
                                                    "#f0f921"
                                                ]
                                            ]
                                        },
                                        "colorway": [
                                            "#636efa",
                                            "#EF553B",
                                            "#00cc96",
                                            "#ab63fa",
                                            "#FFA15A",
                                            "#19d3f3",
                                            "#FF6692",
                                            "#B6E880",
                                            "#FF97FF",
                                            "#FECB52"
                                        ],
                                        "font": {
                                            "color": "#2a3f5f"
                                        },
                                        "geo": {
                                            "bgcolor": "white",
                                            "lakecolor": "white",
                                            "landcolor": "#E5ECF6",
                                            "showlakes": true,
                                            "showland": true,
                                            "subunitcolor": "white"
                                        },
                                        "hoverlabel": {
                                            "align": "left"
                                        },
                                        "hovermode": "closest",
                                        "mapbox": {
                                            "style": "light"
                                        },
                                        "paper_bgcolor": "white",
                                        "plot_bgcolor": "#E5ECF6",
                                        "polar": {
                                            "angularaxis": {
                                                "gridcolor": "white",
                                                "linecolor": "white",
                                                "ticks": ""
                                            },
                                            "bgcolor": "#E5ECF6",
                                            "radialaxis": {
                                                "gridcolor": "white",
                                                "linecolor": "white",
                                                "ticks": ""
                                            }
                                        },
                                        "scene": {
                                            "xaxis": {
                                                "backgroundcolor": "#E5ECF6",
                                                "gridcolor": "white",
                                                "gridwidth": 2,
                                                "linecolor": "white",
                                                "showbackground": true,
                                                "ticks": "",
                                                "zerolinecolor": "white"
                                            },
                                            "yaxis": {
                                                "backgroundcolor": "#E5ECF6",
                                                "gridcolor": "white",
                                                "gridwidth": 2,
                                                "linecolor": "white",
                                                "showbackground": true,
                                                "ticks": "",
                                                "zerolinecolor": "white"
                                            },
                                            "zaxis": {
                                                "backgroundcolor": "#E5ECF6",
                                                "gridcolor": "white",
                                                "gridwidth": 2,
                                                "linecolor": "white",
                                                "showbackground": true,
                                                "ticks": "",
                                                "zerolinecolor": "white"
                                            }
                                        },
                                        "shapedefaults": {
                                            "line": {
                                                "color": "#2a3f5f"
                                            }
                                        },
                                        "ternary": {
                                            "aaxis": {
                                                "gridcolor": "white",
                                                "linecolor": "white",
                                                "ticks": ""
                                            },
                                            "baxis": {
                                                "gridcolor": "white",
                                                "linecolor": "white",
                                                "ticks": ""
                                            },
                                            "bgcolor": "#E5ECF6",
                                            "caxis": {
                                                "gridcolor": "white",
                                                "linecolor": "white",
                                                "ticks": ""
                                            }
                                        },
                                        "title": {
                                            "x": 0.05
                                        },
                                        "xaxis": {
                                            "automargin": true,
                                            "gridcolor": "white",
                                            "linecolor": "white",
                                            "ticks": "",
                                            "title": {
                                                "standoff": 15
                                            },
                                            "zerolinecolor": "white",
                                            "zerolinewidth": 2
                                        },
                                        "yaxis": {
                                            "automargin": true,
                                            "gridcolor": "white",
                                            "linecolor": "white",
                                            "ticks": "",
                                            "title": {
                                                "standoff": 15
                                            },
                                            "zerolinecolor": "white",
                                            "zerolinewidth": 2
                                        }
                                    }
                                },
                                "title": {
                                    "text": "Annual Payroll by Race"
                                },
                                "xaxis": {
                                    "anchor": "y",
                                    "domain": [
                                        0,
                                        1
                                    ],
                                    "title": {
                                        "text": "Racial Background"
                                    }
                                },
                                "yaxis": {
                                    "anchor": "x",
                                    "domain": [
                                        0,
                                        1
                                    ],
                                    "title": {
                                        "text": "Annual Payroll"
                                    }
                                }
                            }
                        }
                    },
                    "metadata": {}
                }
            ],
            "source": [
                "\n",
                "\n",
                "fig2 = px.bar(tech_cleaned2,x='RACE_GROUP_LABEL',y='PAYANN',orientation='v',\n",
                "    labels = {\n",
                "        \"PAYANN\":\"Annual Payroll\",\n",
                "        \"RACE_GROUP_LABEL\" : \"Racial Background\"\n",
                "    },\n",
                "    title='Annual Payroll by Race')\n",
                "\n",
                "fig.update_layout(barmode='stack', xaxis={'categoryorder':'total descending'})\n",
                "fig2.show()"
            ]
        },
        {
            "cell_type": "code",
            "execution_count": 30,
            "metadata": {},
            "outputs": [
                {
                    "output_type": "display_data",
                    "data": {
                        "application/vnd.plotly.v1+json": {
                            "config": {
                                "plotlyServerURL": "https://plot.ly"
                            },
                            "data": [
                                {
                                    "alignmentgroup": "True",
                                    "hovertemplate": "Sex=%{x}<br>Total Employees=%{y}<extra></extra>",
                                    "legendgroup": "",
                                    "marker": {
                                        "color": "#636efa",
                                        "pattern": {
                                            "shape": ""
                                        }
                                    },
                                    "name": "",
                                    "offsetgroup": "",
                                    "orientation": "v",
                                    "showlegend": false,
                                    "textposition": "auto",
                                    "type": "bar",
                                    "x": [
                                        "Male",
                                        "Male",
                                        "Male",
                                        "Male",
                                        "Male",
                                        "Male",
                                        "Male",
                                        "Male",
                                        "Male",
                                        "Male",
                                        "Female",
                                        "Female",
                                        "Female",
                                        "Female",
                                        "Female",
                                        "Female",
                                        "Female",
                                        "Female",
                                        "Female",
                                        "Female",
                                        "Equally male/female",
                                        "Equally male/female",
                                        "Equally male/female",
                                        "Equally male/female",
                                        "Equally male/female",
                                        "Male",
                                        "Male",
                                        "Male",
                                        "Male",
                                        "Male",
                                        "Male",
                                        "Male",
                                        "Male",
                                        "Male",
                                        "Male",
                                        "Female",
                                        "Female",
                                        "Female",
                                        "Female",
                                        "Female",
                                        "Female",
                                        "Female",
                                        "Female",
                                        "Female",
                                        "Female",
                                        "Female",
                                        "Male",
                                        "Equally male/female",
                                        "Equally male/female",
                                        "Equally male/female",
                                        "Equally male/female",
                                        "Equally male/female",
                                        "Equally male/female",
                                        "Equally male/female",
                                        "Equally male/female",
                                        "Equally male/female",
                                        "Equally male/female",
                                        "Male",
                                        "Male",
                                        "Male",
                                        "Male",
                                        "Male",
                                        "Male",
                                        "Male",
                                        "Male",
                                        "Male",
                                        "Male",
                                        "Equally male/female",
                                        "Equally male/female",
                                        "Equally male/female",
                                        "Equally male/female",
                                        "Equally male/female",
                                        "Equally male/female",
                                        "Equally male/female",
                                        "Equally male/female",
                                        "Equally male/female",
                                        "Equally male/female",
                                        "Equally male/female",
                                        "Female",
                                        "Male",
                                        "Equally male/female",
                                        "Female",
                                        "Female",
                                        "Female",
                                        "Female",
                                        "Female",
                                        "Female",
                                        "Female",
                                        "Female",
                                        "Female",
                                        "Female",
                                        "Female",
                                        "Female",
                                        "Female",
                                        "Female",
                                        "Female",
                                        "Female",
                                        "Female",
                                        "Female",
                                        "Female",
                                        "Female",
                                        "Male",
                                        "Male",
                                        "Male",
                                        "Male",
                                        "Male",
                                        "Male",
                                        "Male",
                                        "Male",
                                        "Male",
                                        "Male",
                                        "Male",
                                        "Equally male/female",
                                        "Equally male/female",
                                        "Equally male/female",
                                        "Equally male/female",
                                        "Female",
                                        "Male",
                                        "Equally male/female",
                                        "Male",
                                        "Male",
                                        "Male",
                                        "Male",
                                        "Male",
                                        "Male",
                                        "Male",
                                        "Male",
                                        "Male",
                                        "Equally male/female",
                                        "Equally male/female",
                                        "Equally male/female",
                                        "Equally male/female",
                                        "Equally male/female",
                                        "Equally male/female",
                                        "Equally male/female",
                                        "Equally male/female",
                                        "Equally male/female",
                                        "Female",
                                        "Male",
                                        "Equally male/female",
                                        "Equally male/female",
                                        "Equally male/female",
                                        "Equally male/female",
                                        "Equally male/female",
                                        "Equally male/female",
                                        "Female",
                                        "Female",
                                        "Female",
                                        "Female",
                                        "Female",
                                        "Female",
                                        "Female",
                                        "Male",
                                        "Equally male/female",
                                        "Female",
                                        "Male",
                                        "Equally male/female",
                                        "Male",
                                        "Male",
                                        "Male",
                                        "Male",
                                        "Male",
                                        "Male",
                                        "Male",
                                        "Male",
                                        "Male",
                                        "Male",
                                        "Female",
                                        "Female",
                                        "Female",
                                        "Female",
                                        "Female",
                                        "Female",
                                        "Female",
                                        "Female",
                                        "Female",
                                        "Female",
                                        "Female",
                                        "Male",
                                        "Equally male/female",
                                        "Equally male/female",
                                        "Equally male/female",
                                        "Equally male/female",
                                        "Equally male/female",
                                        "Equally male/female",
                                        "Equally male/female",
                                        "Equally male/female",
                                        "Equally male/female",
                                        "Equally male/female",
                                        "Male",
                                        "Male",
                                        "Male",
                                        "Male",
                                        "Male",
                                        "Male",
                                        "Male",
                                        "Male",
                                        "Male",
                                        "Male",
                                        "Female",
                                        "Female",
                                        "Female",
                                        "Female",
                                        "Female",
                                        "Female",
                                        "Female",
                                        "Female",
                                        "Equally male/female",
                                        "Equally male/female",
                                        "Equally male/female",
                                        "Equally male/female",
                                        "Equally male/female",
                                        "Equally male/female",
                                        "Equally male/female",
                                        "Equally male/female",
                                        "Male",
                                        "Male",
                                        "Male",
                                        "Male",
                                        "Male",
                                        "Male",
                                        "Male",
                                        "Male",
                                        "Male",
                                        "Female",
                                        "Female",
                                        "Female",
                                        "Female",
                                        "Female",
                                        "Female",
                                        "Female",
                                        "Female",
                                        "Female",
                                        "Female",
                                        "Male",
                                        "Female",
                                        "Male",
                                        "Equally male/female",
                                        "Equally male/female",
                                        "Equally male/female",
                                        "Equally male/female",
                                        "Male",
                                        "Male",
                                        "Male",
                                        "Male",
                                        "Male",
                                        "Male",
                                        "Male",
                                        "Male",
                                        "Male",
                                        "Equally male/female",
                                        "Equally male/female",
                                        "Equally male/female",
                                        "Equally male/female",
                                        "Equally male/female",
                                        "Female",
                                        "Male",
                                        "Equally male/female",
                                        "Equally male/female",
                                        "Equally male/female",
                                        "Equally male/female",
                                        "Equally male/female",
                                        "Equally male/female",
                                        "Female",
                                        "Male",
                                        "Equally male/female",
                                        "Female",
                                        "Male",
                                        "Equally male/female",
                                        "Female",
                                        "Female",
                                        "Female",
                                        "Female",
                                        "Female",
                                        "Female",
                                        "Female",
                                        "Female",
                                        "Female",
                                        "Female",
                                        "Female",
                                        "Female",
                                        "Female",
                                        "Female",
                                        "Female",
                                        "Female",
                                        "Female",
                                        "Female",
                                        "Male",
                                        "Female",
                                        "Female",
                                        "Female",
                                        "Female",
                                        "Female",
                                        "Female",
                                        "Female",
                                        "Female",
                                        "Male",
                                        "Female",
                                        "Female",
                                        "Female",
                                        "Female",
                                        "Female",
                                        "Female",
                                        "Female",
                                        "Female",
                                        "Female",
                                        "Female",
                                        "Male",
                                        "Male",
                                        "Male",
                                        "Male",
                                        "Male",
                                        "Male",
                                        "Male",
                                        "Male",
                                        "Male",
                                        "Male",
                                        "Male",
                                        "Male",
                                        "Male",
                                        "Male",
                                        "Male",
                                        "Male",
                                        "Male",
                                        "Male",
                                        "Male",
                                        "Male",
                                        "Equally male/female",
                                        "Equally male/female",
                                        "Equally male/female",
                                        "Equally male/female",
                                        "Equally male/female",
                                        "Equally male/female",
                                        "Equally male/female",
                                        "Equally male/female",
                                        "Equally male/female",
                                        "Equally male/female",
                                        "Equally male/female",
                                        "Equally male/female",
                                        "Equally male/female",
                                        "Equally male/female",
                                        "Equally male/female",
                                        "Equally male/female",
                                        "Equally male/female",
                                        "Equally male/female",
                                        "Equally male/female",
                                        "Female",
                                        "Female",
                                        "Female",
                                        "Female",
                                        "Female",
                                        "Female",
                                        "Female",
                                        "Female",
                                        "Female",
                                        "Female",
                                        "Female",
                                        "Female",
                                        "Female",
                                        "Female",
                                        "Female",
                                        "Female",
                                        "Male",
                                        "Male",
                                        "Male",
                                        "Male",
                                        "Male",
                                        "Male",
                                        "Male",
                                        "Male",
                                        "Male",
                                        "Male",
                                        "Male",
                                        "Male",
                                        "Male",
                                        "Male",
                                        "Male",
                                        "Male",
                                        "Female",
                                        "Male",
                                        "Equally male/female",
                                        "Male",
                                        "Male",
                                        "Male",
                                        "Male",
                                        "Equally male/female",
                                        "Equally male/female",
                                        "Equally male/female",
                                        "Equally male/female",
                                        "Equally male/female",
                                        "Equally male/female",
                                        "Equally male/female",
                                        "Equally male/female",
                                        "Equally male/female",
                                        "Equally male/female",
                                        "Equally male/female",
                                        "Equally male/female",
                                        "Equally male/female",
                                        "Equally male/female",
                                        "Equally male/female",
                                        "Equally male/female",
                                        "Equally male/female",
                                        "Equally male/female",
                                        "Female",
                                        "Male",
                                        "Equally male/female",
                                        "Equally male/female",
                                        "Female",
                                        "Male",
                                        "Equally male/female",
                                        "Female",
                                        "Female",
                                        "Female",
                                        "Female",
                                        "Female",
                                        "Female",
                                        "Female",
                                        "Female",
                                        "Female",
                                        "Female",
                                        "Male",
                                        "Equally male/female",
                                        "Female",
                                        "Male",
                                        "Equally male/female",
                                        "Male",
                                        "Male",
                                        "Male",
                                        "Male",
                                        "Male",
                                        "Male",
                                        "Male",
                                        "Male",
                                        "Male",
                                        "Male",
                                        "Female",
                                        "Male",
                                        "Equally male/female",
                                        "Female",
                                        "Male",
                                        "Equally male/female",
                                        "Equally male/female",
                                        "Equally male/female",
                                        "Equally male/female",
                                        "Equally male/female",
                                        "Equally male/female",
                                        "Equally male/female",
                                        "Female",
                                        "Male",
                                        "Equally male/female",
                                        "Female",
                                        "Male",
                                        "Equally male/female",
                                        "Female",
                                        "Male",
                                        "Female",
                                        "Male",
                                        "Equally male/female",
                                        "Female",
                                        "Male",
                                        "Equally male/female",
                                        "Male",
                                        "Male",
                                        "Equally male/female",
                                        "Male",
                                        "Female",
                                        "Male",
                                        "Equally male/female",
                                        "Female",
                                        "Male",
                                        "Equally male/female",
                                        "Male",
                                        "Male",
                                        "Equally male/female",
                                        "Female",
                                        "Female",
                                        "Male",
                                        "Male",
                                        "Male",
                                        "Male",
                                        "Male",
                                        "Male",
                                        "Male",
                                        "Male",
                                        "Male",
                                        "Male",
                                        "Female",
                                        "Male",
                                        "Equally male/female",
                                        "Equally male/female",
                                        "Equally male/female",
                                        "Equally male/female",
                                        "Equally male/female",
                                        "Equally male/female",
                                        "Equally male/female",
                                        "Equally male/female",
                                        "Equally male/female",
                                        "Equally male/female",
                                        "Equally male/female",
                                        "Female",
                                        "Male",
                                        "Female",
                                        "Male"
                                    ],
                                    "xaxis": "x",
                                    "y": [
                                        14068,
                                        0,
                                        2487,
                                        1572,
                                        0,
                                        2036,
                                        803,
                                        0,
                                        1974,
                                        0,
                                        989099,
                                        0,
                                        203751,
                                        147029,
                                        149106,
                                        129698,
                                        80162,
                                        92830,
                                        71000,
                                        0,
                                        179,
                                        0,
                                        0,
                                        0,
                                        0,
                                        3904031,
                                        0,
                                        535882,
                                        434241,
                                        529394,
                                        674864,
                                        401214,
                                        499619,
                                        338655,
                                        490162,
                                        847567,
                                        0,
                                        180210,
                                        66529,
                                        129127,
                                        136095,
                                        109022,
                                        77498,
                                        0,
                                        0,
                                        1297,
                                        0,
                                        432125,
                                        0,
                                        90503,
                                        61105,
                                        72156,
                                        86459,
                                        36004,
                                        27903,
                                        0,
                                        36299,
                                        3532829,
                                        0,
                                        489343,
                                        398921,
                                        487041,
                                        613634,
                                        357946,
                                        436930,
                                        308750,
                                        440265,
                                        0,
                                        385399,
                                        0,
                                        78900,
                                        55463,
                                        65508,
                                        74655,
                                        30577,
                                        25918,
                                        0,
                                        34041,
                                        0,
                                        12808,
                                        164,
                                        53317,
                                        0,
                                        13132,
                                        9397,
                                        9495,
                                        0,
                                        0,
                                        5358,
                                        0,
                                        1481,
                                        112115,
                                        0,
                                        17983,
                                        14550,
                                        11187,
                                        18100,
                                        0,
                                        7189,
                                        0,
                                        10871,
                                        294115,
                                        127689,
                                        0,
                                        24211,
                                        18651,
                                        19813,
                                        23895,
                                        0,
                                        0,
                                        4348,
                                        9373,
                                        5912,
                                        0,
                                        2768,
                                        800,
                                        50106,
                                        124866,
                                        5751,
                                        0,
                                        35484,
                                        25470,
                                        32634,
                                        46627,
                                        33347,
                                        53011,
                                        25945,
                                        41597,
                                        24173,
                                        0,
                                        6412,
                                        3234,
                                        0,
                                        0,
                                        0,
                                        0,
                                        0,
                                        0,
                                        11480,
                                        16026,
                                        0,
                                        0,
                                        1301,
                                        0,
                                        0,
                                        0,
                                        0,
                                        0,
                                        0,
                                        0,
                                        0,
                                        796912,
                                        3396483,
                                        363621,
                                        0,
                                        585,
                                        0,
                                        13245,
                                        0,
                                        2258,
                                        0,
                                        0,
                                        0,
                                        583,
                                        911,
                                        0,
                                        0,
                                        29019,
                                        0,
                                        6866,
                                        4634,
                                        2378,
                                        0,
                                        5726,
                                        4176,
                                        1549,
                                        0,
                                        109864,
                                        293530,
                                        24153,
                                        16929,
                                        0,
                                        4586,
                                        0,
                                        0,
                                        0,
                                        0,
                                        0,
                                        0,
                                        66287,
                                        0,
                                        11092,
                                        9098,
                                        8666,
                                        9259,
                                        9887,
                                        7678,
                                        2862,
                                        7744,
                                        1602,
                                        0,
                                        275,
                                        0,
                                        0,
                                        0,
                                        0,
                                        0,
                                        4734,
                                        0,
                                        319,
                                        1268,
                                        848,
                                        0,
                                        0,
                                        0,
                                        2984,
                                        0,
                                        0,
                                        0,
                                        286,
                                        392,
                                        389,
                                        575,
                                        0,
                                        935233,
                                        0,
                                        190437,
                                        137592,
                                        139611,
                                        125558,
                                        73430,
                                        87471,
                                        67091,
                                        0,
                                        3763097,
                                        2031,
                                        3043,
                                        0,
                                        0,
                                        0,
                                        0,
                                        0,
                                        509412,
                                        413549,
                                        507287,
                                        647557,
                                        389995,
                                        481947,
                                        333885,
                                        479465,
                                        409284,
                                        0,
                                        83150,
                                        56729,
                                        231,
                                        0,
                                        0,
                                        68860,
                                        82283,
                                        32903,
                                        27365,
                                        0,
                                        36299,
                                        26988,
                                        63244,
                                        4496,
                                        1591,
                                        2583,
                                        0,
                                        0,
                                        0,
                                        1559,
                                        1938,
                                        0,
                                        700,
                                        387,
                                        0,
                                        0,
                                        199783,
                                        0,
                                        38185,
                                        29097,
                                        23552,
                                        23580,
                                        21204,
                                        20932,
                                        658,
                                        7082,
                                        0,
                                        0,
                                        699,
                                        0,
                                        0,
                                        0,
                                        0,
                                        216,
                                        454,
                                        972917,
                                        0,
                                        201286,
                                        143582,
                                        147254,
                                        128228,
                                        79444,
                                        88492,
                                        69512,
                                        0,
                                        28066,
                                        0,
                                        4037,
                                        3843,
                                        5617,
                                        8489,
                                        1261,
                                        1766,
                                        0,
                                        2630,
                                        3501690,
                                        0,
                                        471526,
                                        390105,
                                        474132,
                                        619722,
                                        352512,
                                        445608,
                                        297364,
                                        450721,
                                        0,
                                        37744,
                                        0,
                                        8683,
                                        5657,
                                        0,
                                        0,
                                        0,
                                        1613,
                                        390375,
                                        0,
                                        78394,
                                        54588,
                                        64667,
                                        79615,
                                        33770,
                                        22214,
                                        0,
                                        35433,
                                        787458,
                                        0,
                                        164868,
                                        0,
                                        0,
                                        0,
                                        0,
                                        0,
                                        0,
                                        117435,
                                        125257,
                                        105903,
                                        58808,
                                        71897,
                                        0,
                                        0,
                                        3370666,
                                        0,
                                        459118,
                                        374964,
                                        461039,
                                        581269,
                                        37045,
                                        0,
                                        5858,
                                        6565,
                                        9849,
                                        0,
                                        1402,
                                        1467,
                                        1645,
                                        2010,
                                        52335,
                                        111512,
                                        4899,
                                        345321,
                                        418116,
                                        302866,
                                        427972,
                                        358801,
                                        0,
                                        70864,
                                        51004,
                                        61323,
                                        68682,
                                        27407,
                                        25144,
                                        0,
                                        41250,
                                        0,
                                        11830,
                                        6500,
                                        7435,
                                        6695,
                                        0,
                                        0,
                                        0,
                                        0,
                                        11855,
                                        15955,
                                        34041,
                                        920051,
                                        3378323,
                                        369521,
                                        14822,
                                        0,
                                        2128,
                                        2861,
                                        0,
                                        0,
                                        717,
                                        0,
                                        1488,
                                        0,
                                        0,
                                        0,
                                        835182,
                                        3151566,
                                        345904,
                                        365296,
                                        0,
                                        58498,
                                        37570,
                                        45413,
                                        46893,
                                        47301,
                                        52543,
                                        0,
                                        37431,
                                        0,
                                        1357,
                                        0,
                                        25576,
                                        54099,
                                        4381,
                                        0,
                                        0,
                                        0,
                                        17,
                                        0,
                                        0,
                                        0,
                                        35318,
                                        39263,
                                        0,
                                        11427,
                                        179,
                                        982,
                                        15807,
                                        0,
                                        35349,
                                        39056,
                                        111457,
                                        286923,
                                        24173,
                                        0,
                                        0,
                                        353,
                                        0,
                                        1385,
                                        2473,
                                        0,
                                        13840,
                                        349456,
                                        0,
                                        0,
                                        0,
                                        2,
                                        0,
                                        13762,
                                        505300,
                                        0,
                                        72726,
                                        55434,
                                        62738,
                                        85106,
                                        54632,
                                        79736,
                                        35367,
                                        59560,
                                        11025,
                                        345915,
                                        0,
                                        35579,
                                        0,
                                        10957,
                                        4935,
                                        5177,
                                        8206,
                                        0,
                                        1839,
                                        0,
                                        646,
                                        0,
                                        12130,
                                        0,
                                        2533
                                    ],
                                    "yaxis": "y"
                                }
                            ],
                            "layout": {
                                "barmode": "relative",
                                "legend": {
                                    "tracegroupgap": 0
                                },
                                "template": {
                                    "data": {
                                        "bar": [
                                            {
                                                "error_x": {
                                                    "color": "#2a3f5f"
                                                },
                                                "error_y": {
                                                    "color": "#2a3f5f"
                                                },
                                                "marker": {
                                                    "line": {
                                                        "color": "#E5ECF6",
                                                        "width": 0.5
                                                    },
                                                    "pattern": {
                                                        "fillmode": "overlay",
                                                        "size": 10,
                                                        "solidity": 0.2
                                                    }
                                                },
                                                "type": "bar"
                                            }
                                        ],
                                        "barpolar": [
                                            {
                                                "marker": {
                                                    "line": {
                                                        "color": "#E5ECF6",
                                                        "width": 0.5
                                                    },
                                                    "pattern": {
                                                        "fillmode": "overlay",
                                                        "size": 10,
                                                        "solidity": 0.2
                                                    }
                                                },
                                                "type": "barpolar"
                                            }
                                        ],
                                        "carpet": [
                                            {
                                                "aaxis": {
                                                    "endlinecolor": "#2a3f5f",
                                                    "gridcolor": "white",
                                                    "linecolor": "white",
                                                    "minorgridcolor": "white",
                                                    "startlinecolor": "#2a3f5f"
                                                },
                                                "baxis": {
                                                    "endlinecolor": "#2a3f5f",
                                                    "gridcolor": "white",
                                                    "linecolor": "white",
                                                    "minorgridcolor": "white",
                                                    "startlinecolor": "#2a3f5f"
                                                },
                                                "type": "carpet"
                                            }
                                        ],
                                        "choropleth": [
                                            {
                                                "colorbar": {
                                                    "outlinewidth": 0,
                                                    "ticks": ""
                                                },
                                                "type": "choropleth"
                                            }
                                        ],
                                        "contour": [
                                            {
                                                "colorbar": {
                                                    "outlinewidth": 0,
                                                    "ticks": ""
                                                },
                                                "colorscale": [
                                                    [
                                                        0,
                                                        "#0d0887"
                                                    ],
                                                    [
                                                        0.1111111111111111,
                                                        "#46039f"
                                                    ],
                                                    [
                                                        0.2222222222222222,
                                                        "#7201a8"
                                                    ],
                                                    [
                                                        0.3333333333333333,
                                                        "#9c179e"
                                                    ],
                                                    [
                                                        0.4444444444444444,
                                                        "#bd3786"
                                                    ],
                                                    [
                                                        0.5555555555555556,
                                                        "#d8576b"
                                                    ],
                                                    [
                                                        0.6666666666666666,
                                                        "#ed7953"
                                                    ],
                                                    [
                                                        0.7777777777777778,
                                                        "#fb9f3a"
                                                    ],
                                                    [
                                                        0.8888888888888888,
                                                        "#fdca26"
                                                    ],
                                                    [
                                                        1,
                                                        "#f0f921"
                                                    ]
                                                ],
                                                "type": "contour"
                                            }
                                        ],
                                        "contourcarpet": [
                                            {
                                                "colorbar": {
                                                    "outlinewidth": 0,
                                                    "ticks": ""
                                                },
                                                "type": "contourcarpet"
                                            }
                                        ],
                                        "heatmap": [
                                            {
                                                "colorbar": {
                                                    "outlinewidth": 0,
                                                    "ticks": ""
                                                },
                                                "colorscale": [
                                                    [
                                                        0,
                                                        "#0d0887"
                                                    ],
                                                    [
                                                        0.1111111111111111,
                                                        "#46039f"
                                                    ],
                                                    [
                                                        0.2222222222222222,
                                                        "#7201a8"
                                                    ],
                                                    [
                                                        0.3333333333333333,
                                                        "#9c179e"
                                                    ],
                                                    [
                                                        0.4444444444444444,
                                                        "#bd3786"
                                                    ],
                                                    [
                                                        0.5555555555555556,
                                                        "#d8576b"
                                                    ],
                                                    [
                                                        0.6666666666666666,
                                                        "#ed7953"
                                                    ],
                                                    [
                                                        0.7777777777777778,
                                                        "#fb9f3a"
                                                    ],
                                                    [
                                                        0.8888888888888888,
                                                        "#fdca26"
                                                    ],
                                                    [
                                                        1,
                                                        "#f0f921"
                                                    ]
                                                ],
                                                "type": "heatmap"
                                            }
                                        ],
                                        "heatmapgl": [
                                            {
                                                "colorbar": {
                                                    "outlinewidth": 0,
                                                    "ticks": ""
                                                },
                                                "colorscale": [
                                                    [
                                                        0,
                                                        "#0d0887"
                                                    ],
                                                    [
                                                        0.1111111111111111,
                                                        "#46039f"
                                                    ],
                                                    [
                                                        0.2222222222222222,
                                                        "#7201a8"
                                                    ],
                                                    [
                                                        0.3333333333333333,
                                                        "#9c179e"
                                                    ],
                                                    [
                                                        0.4444444444444444,
                                                        "#bd3786"
                                                    ],
                                                    [
                                                        0.5555555555555556,
                                                        "#d8576b"
                                                    ],
                                                    [
                                                        0.6666666666666666,
                                                        "#ed7953"
                                                    ],
                                                    [
                                                        0.7777777777777778,
                                                        "#fb9f3a"
                                                    ],
                                                    [
                                                        0.8888888888888888,
                                                        "#fdca26"
                                                    ],
                                                    [
                                                        1,
                                                        "#f0f921"
                                                    ]
                                                ],
                                                "type": "heatmapgl"
                                            }
                                        ],
                                        "histogram": [
                                            {
                                                "marker": {
                                                    "pattern": {
                                                        "fillmode": "overlay",
                                                        "size": 10,
                                                        "solidity": 0.2
                                                    }
                                                },
                                                "type": "histogram"
                                            }
                                        ],
                                        "histogram2d": [
                                            {
                                                "colorbar": {
                                                    "outlinewidth": 0,
                                                    "ticks": ""
                                                },
                                                "colorscale": [
                                                    [
                                                        0,
                                                        "#0d0887"
                                                    ],
                                                    [
                                                        0.1111111111111111,
                                                        "#46039f"
                                                    ],
                                                    [
                                                        0.2222222222222222,
                                                        "#7201a8"
                                                    ],
                                                    [
                                                        0.3333333333333333,
                                                        "#9c179e"
                                                    ],
                                                    [
                                                        0.4444444444444444,
                                                        "#bd3786"
                                                    ],
                                                    [
                                                        0.5555555555555556,
                                                        "#d8576b"
                                                    ],
                                                    [
                                                        0.6666666666666666,
                                                        "#ed7953"
                                                    ],
                                                    [
                                                        0.7777777777777778,
                                                        "#fb9f3a"
                                                    ],
                                                    [
                                                        0.8888888888888888,
                                                        "#fdca26"
                                                    ],
                                                    [
                                                        1,
                                                        "#f0f921"
                                                    ]
                                                ],
                                                "type": "histogram2d"
                                            }
                                        ],
                                        "histogram2dcontour": [
                                            {
                                                "colorbar": {
                                                    "outlinewidth": 0,
                                                    "ticks": ""
                                                },
                                                "colorscale": [
                                                    [
                                                        0,
                                                        "#0d0887"
                                                    ],
                                                    [
                                                        0.1111111111111111,
                                                        "#46039f"
                                                    ],
                                                    [
                                                        0.2222222222222222,
                                                        "#7201a8"
                                                    ],
                                                    [
                                                        0.3333333333333333,
                                                        "#9c179e"
                                                    ],
                                                    [
                                                        0.4444444444444444,
                                                        "#bd3786"
                                                    ],
                                                    [
                                                        0.5555555555555556,
                                                        "#d8576b"
                                                    ],
                                                    [
                                                        0.6666666666666666,
                                                        "#ed7953"
                                                    ],
                                                    [
                                                        0.7777777777777778,
                                                        "#fb9f3a"
                                                    ],
                                                    [
                                                        0.8888888888888888,
                                                        "#fdca26"
                                                    ],
                                                    [
                                                        1,
                                                        "#f0f921"
                                                    ]
                                                ],
                                                "type": "histogram2dcontour"
                                            }
                                        ],
                                        "mesh3d": [
                                            {
                                                "colorbar": {
                                                    "outlinewidth": 0,
                                                    "ticks": ""
                                                },
                                                "type": "mesh3d"
                                            }
                                        ],
                                        "parcoords": [
                                            {
                                                "line": {
                                                    "colorbar": {
                                                        "outlinewidth": 0,
                                                        "ticks": ""
                                                    }
                                                },
                                                "type": "parcoords"
                                            }
                                        ],
                                        "pie": [
                                            {
                                                "automargin": true,
                                                "type": "pie"
                                            }
                                        ],
                                        "scatter": [
                                            {
                                                "marker": {
                                                    "colorbar": {
                                                        "outlinewidth": 0,
                                                        "ticks": ""
                                                    }
                                                },
                                                "type": "scatter"
                                            }
                                        ],
                                        "scatter3d": [
                                            {
                                                "line": {
                                                    "colorbar": {
                                                        "outlinewidth": 0,
                                                        "ticks": ""
                                                    }
                                                },
                                                "marker": {
                                                    "colorbar": {
                                                        "outlinewidth": 0,
                                                        "ticks": ""
                                                    }
                                                },
                                                "type": "scatter3d"
                                            }
                                        ],
                                        "scattercarpet": [
                                            {
                                                "marker": {
                                                    "colorbar": {
                                                        "outlinewidth": 0,
                                                        "ticks": ""
                                                    }
                                                },
                                                "type": "scattercarpet"
                                            }
                                        ],
                                        "scattergeo": [
                                            {
                                                "marker": {
                                                    "colorbar": {
                                                        "outlinewidth": 0,
                                                        "ticks": ""
                                                    }
                                                },
                                                "type": "scattergeo"
                                            }
                                        ],
                                        "scattergl": [
                                            {
                                                "marker": {
                                                    "colorbar": {
                                                        "outlinewidth": 0,
                                                        "ticks": ""
                                                    }
                                                },
                                                "type": "scattergl"
                                            }
                                        ],
                                        "scattermapbox": [
                                            {
                                                "marker": {
                                                    "colorbar": {
                                                        "outlinewidth": 0,
                                                        "ticks": ""
                                                    }
                                                },
                                                "type": "scattermapbox"
                                            }
                                        ],
                                        "scatterpolar": [
                                            {
                                                "marker": {
                                                    "colorbar": {
                                                        "outlinewidth": 0,
                                                        "ticks": ""
                                                    }
                                                },
                                                "type": "scatterpolar"
                                            }
                                        ],
                                        "scatterpolargl": [
                                            {
                                                "marker": {
                                                    "colorbar": {
                                                        "outlinewidth": 0,
                                                        "ticks": ""
                                                    }
                                                },
                                                "type": "scatterpolargl"
                                            }
                                        ],
                                        "scatterternary": [
                                            {
                                                "marker": {
                                                    "colorbar": {
                                                        "outlinewidth": 0,
                                                        "ticks": ""
                                                    }
                                                },
                                                "type": "scatterternary"
                                            }
                                        ],
                                        "surface": [
                                            {
                                                "colorbar": {
                                                    "outlinewidth": 0,
                                                    "ticks": ""
                                                },
                                                "colorscale": [
                                                    [
                                                        0,
                                                        "#0d0887"
                                                    ],
                                                    [
                                                        0.1111111111111111,
                                                        "#46039f"
                                                    ],
                                                    [
                                                        0.2222222222222222,
                                                        "#7201a8"
                                                    ],
                                                    [
                                                        0.3333333333333333,
                                                        "#9c179e"
                                                    ],
                                                    [
                                                        0.4444444444444444,
                                                        "#bd3786"
                                                    ],
                                                    [
                                                        0.5555555555555556,
                                                        "#d8576b"
                                                    ],
                                                    [
                                                        0.6666666666666666,
                                                        "#ed7953"
                                                    ],
                                                    [
                                                        0.7777777777777778,
                                                        "#fb9f3a"
                                                    ],
                                                    [
                                                        0.8888888888888888,
                                                        "#fdca26"
                                                    ],
                                                    [
                                                        1,
                                                        "#f0f921"
                                                    ]
                                                ],
                                                "type": "surface"
                                            }
                                        ],
                                        "table": [
                                            {
                                                "cells": {
                                                    "fill": {
                                                        "color": "#EBF0F8"
                                                    },
                                                    "line": {
                                                        "color": "white"
                                                    }
                                                },
                                                "header": {
                                                    "fill": {
                                                        "color": "#C8D4E3"
                                                    },
                                                    "line": {
                                                        "color": "white"
                                                    }
                                                },
                                                "type": "table"
                                            }
                                        ]
                                    },
                                    "layout": {
                                        "annotationdefaults": {
                                            "arrowcolor": "#2a3f5f",
                                            "arrowhead": 0,
                                            "arrowwidth": 1
                                        },
                                        "autotypenumbers": "strict",
                                        "coloraxis": {
                                            "colorbar": {
                                                "outlinewidth": 0,
                                                "ticks": ""
                                            }
                                        },
                                        "colorscale": {
                                            "diverging": [
                                                [
                                                    0,
                                                    "#8e0152"
                                                ],
                                                [
                                                    0.1,
                                                    "#c51b7d"
                                                ],
                                                [
                                                    0.2,
                                                    "#de77ae"
                                                ],
                                                [
                                                    0.3,
                                                    "#f1b6da"
                                                ],
                                                [
                                                    0.4,
                                                    "#fde0ef"
                                                ],
                                                [
                                                    0.5,
                                                    "#f7f7f7"
                                                ],
                                                [
                                                    0.6,
                                                    "#e6f5d0"
                                                ],
                                                [
                                                    0.7,
                                                    "#b8e186"
                                                ],
                                                [
                                                    0.8,
                                                    "#7fbc41"
                                                ],
                                                [
                                                    0.9,
                                                    "#4d9221"
                                                ],
                                                [
                                                    1,
                                                    "#276419"
                                                ]
                                            ],
                                            "sequential": [
                                                [
                                                    0,
                                                    "#0d0887"
                                                ],
                                                [
                                                    0.1111111111111111,
                                                    "#46039f"
                                                ],
                                                [
                                                    0.2222222222222222,
                                                    "#7201a8"
                                                ],
                                                [
                                                    0.3333333333333333,
                                                    "#9c179e"
                                                ],
                                                [
                                                    0.4444444444444444,
                                                    "#bd3786"
                                                ],
                                                [
                                                    0.5555555555555556,
                                                    "#d8576b"
                                                ],
                                                [
                                                    0.6666666666666666,
                                                    "#ed7953"
                                                ],
                                                [
                                                    0.7777777777777778,
                                                    "#fb9f3a"
                                                ],
                                                [
                                                    0.8888888888888888,
                                                    "#fdca26"
                                                ],
                                                [
                                                    1,
                                                    "#f0f921"
                                                ]
                                            ],
                                            "sequentialminus": [
                                                [
                                                    0,
                                                    "#0d0887"
                                                ],
                                                [
                                                    0.1111111111111111,
                                                    "#46039f"
                                                ],
                                                [
                                                    0.2222222222222222,
                                                    "#7201a8"
                                                ],
                                                [
                                                    0.3333333333333333,
                                                    "#9c179e"
                                                ],
                                                [
                                                    0.4444444444444444,
                                                    "#bd3786"
                                                ],
                                                [
                                                    0.5555555555555556,
                                                    "#d8576b"
                                                ],
                                                [
                                                    0.6666666666666666,
                                                    "#ed7953"
                                                ],
                                                [
                                                    0.7777777777777778,
                                                    "#fb9f3a"
                                                ],
                                                [
                                                    0.8888888888888888,
                                                    "#fdca26"
                                                ],
                                                [
                                                    1,
                                                    "#f0f921"
                                                ]
                                            ]
                                        },
                                        "colorway": [
                                            "#636efa",
                                            "#EF553B",
                                            "#00cc96",
                                            "#ab63fa",
                                            "#FFA15A",
                                            "#19d3f3",
                                            "#FF6692",
                                            "#B6E880",
                                            "#FF97FF",
                                            "#FECB52"
                                        ],
                                        "font": {
                                            "color": "#2a3f5f"
                                        },
                                        "geo": {
                                            "bgcolor": "white",
                                            "lakecolor": "white",
                                            "landcolor": "#E5ECF6",
                                            "showlakes": true,
                                            "showland": true,
                                            "subunitcolor": "white"
                                        },
                                        "hoverlabel": {
                                            "align": "left"
                                        },
                                        "hovermode": "closest",
                                        "mapbox": {
                                            "style": "light"
                                        },
                                        "paper_bgcolor": "white",
                                        "plot_bgcolor": "#E5ECF6",
                                        "polar": {
                                            "angularaxis": {
                                                "gridcolor": "white",
                                                "linecolor": "white",
                                                "ticks": ""
                                            },
                                            "bgcolor": "#E5ECF6",
                                            "radialaxis": {
                                                "gridcolor": "white",
                                                "linecolor": "white",
                                                "ticks": ""
                                            }
                                        },
                                        "scene": {
                                            "xaxis": {
                                                "backgroundcolor": "#E5ECF6",
                                                "gridcolor": "white",
                                                "gridwidth": 2,
                                                "linecolor": "white",
                                                "showbackground": true,
                                                "ticks": "",
                                                "zerolinecolor": "white"
                                            },
                                            "yaxis": {
                                                "backgroundcolor": "#E5ECF6",
                                                "gridcolor": "white",
                                                "gridwidth": 2,
                                                "linecolor": "white",
                                                "showbackground": true,
                                                "ticks": "",
                                                "zerolinecolor": "white"
                                            },
                                            "zaxis": {
                                                "backgroundcolor": "#E5ECF6",
                                                "gridcolor": "white",
                                                "gridwidth": 2,
                                                "linecolor": "white",
                                                "showbackground": true,
                                                "ticks": "",
                                                "zerolinecolor": "white"
                                            }
                                        },
                                        "shapedefaults": {
                                            "line": {
                                                "color": "#2a3f5f"
                                            }
                                        },
                                        "ternary": {
                                            "aaxis": {
                                                "gridcolor": "white",
                                                "linecolor": "white",
                                                "ticks": ""
                                            },
                                            "baxis": {
                                                "gridcolor": "white",
                                                "linecolor": "white",
                                                "ticks": ""
                                            },
                                            "bgcolor": "#E5ECF6",
                                            "caxis": {
                                                "gridcolor": "white",
                                                "linecolor": "white",
                                                "ticks": ""
                                            }
                                        },
                                        "title": {
                                            "x": 0.05
                                        },
                                        "xaxis": {
                                            "automargin": true,
                                            "gridcolor": "white",
                                            "linecolor": "white",
                                            "ticks": "",
                                            "title": {
                                                "standoff": 15
                                            },
                                            "zerolinecolor": "white",
                                            "zerolinewidth": 2
                                        },
                                        "yaxis": {
                                            "automargin": true,
                                            "gridcolor": "white",
                                            "linecolor": "white",
                                            "ticks": "",
                                            "title": {
                                                "standoff": 15
                                            },
                                            "zerolinecolor": "white",
                                            "zerolinewidth": 2
                                        }
                                    }
                                },
                                "title": {
                                    "text": "Total Employees by Sex"
                                },
                                "xaxis": {
                                    "anchor": "y",
                                    "domain": [
                                        0,
                                        1
                                    ],
                                    "title": {
                                        "text": "Sex"
                                    }
                                },
                                "yaxis": {
                                    "anchor": "x",
                                    "domain": [
                                        0,
                                        1
                                    ],
                                    "title": {
                                        "text": "Total Employees"
                                    }
                                }
                            }
                        }
                    },
                    "metadata": {}
                }
            ],
            "source": [
                "#tech_cleaned3 = tech_cleaned3.sort_values(by=['EMP'])\r\n",
                "\r\n",
                "fig3 = px.bar(tech_cleaned3,x='SEX_LABEL',y='EMP',orientation='v',\r\n",
                "    labels = {\r\n",
                "        \"EMP\":\"Total Employees\",\r\n",
                "        \"SEX_LABEL\" : \"Sex\"\r\n",
                "    },\r\n",
                "    title='Total Employees by Sex')\r\n",
                "fig3.show()"
            ]
        },
        {
            "cell_type": "code",
            "execution_count": 31,
            "metadata": {},
            "outputs": [
                {
                    "output_type": "display_data",
                    "data": {
                        "application/vnd.plotly.v1+json": {
                            "config": {
                                "plotlyServerURL": "https://plot.ly"
                            },
                            "data": [
                                {
                                    "hovertemplate": "Firm Size=%{x}<br>Total Firms=%{y}<extra></extra>",
                                    "legendgroup": "",
                                    "line": {
                                        "color": "#636efa",
                                        "dash": "solid"
                                    },
                                    "mode": "lines",
                                    "name": "",
                                    "orientation": "v",
                                    "showlegend": false,
                                    "type": "scatter",
                                    "x": [
                                        "Firms with 0 employees",
                                        "Firms with 1 to 4 employees",
                                        "Firms with 5 to 9 employees",
                                        "Firms with 10 to 19 employees",
                                        "Firms with 20 to 49 employees",
                                        "Firms with 50 to 99 employees",
                                        "Firms with 100 to 249 employees",
                                        "Firms with 250 to 499 employees",
                                        "Firms with 500 employees or more"
                                    ],
                                    "xaxis": "x",
                                    "y": [
                                        133052,
                                        471903,
                                        100469,
                                        58106,
                                        32660,
                                        9290,
                                        6088,
                                        2422,
                                        3540
                                    ],
                                    "yaxis": "y"
                                }
                            ],
                            "layout": {
                                "legend": {
                                    "tracegroupgap": 0
                                },
                                "template": {
                                    "data": {
                                        "bar": [
                                            {
                                                "error_x": {
                                                    "color": "#2a3f5f"
                                                },
                                                "error_y": {
                                                    "color": "#2a3f5f"
                                                },
                                                "marker": {
                                                    "line": {
                                                        "color": "#E5ECF6",
                                                        "width": 0.5
                                                    },
                                                    "pattern": {
                                                        "fillmode": "overlay",
                                                        "size": 10,
                                                        "solidity": 0.2
                                                    }
                                                },
                                                "type": "bar"
                                            }
                                        ],
                                        "barpolar": [
                                            {
                                                "marker": {
                                                    "line": {
                                                        "color": "#E5ECF6",
                                                        "width": 0.5
                                                    },
                                                    "pattern": {
                                                        "fillmode": "overlay",
                                                        "size": 10,
                                                        "solidity": 0.2
                                                    }
                                                },
                                                "type": "barpolar"
                                            }
                                        ],
                                        "carpet": [
                                            {
                                                "aaxis": {
                                                    "endlinecolor": "#2a3f5f",
                                                    "gridcolor": "white",
                                                    "linecolor": "white",
                                                    "minorgridcolor": "white",
                                                    "startlinecolor": "#2a3f5f"
                                                },
                                                "baxis": {
                                                    "endlinecolor": "#2a3f5f",
                                                    "gridcolor": "white",
                                                    "linecolor": "white",
                                                    "minorgridcolor": "white",
                                                    "startlinecolor": "#2a3f5f"
                                                },
                                                "type": "carpet"
                                            }
                                        ],
                                        "choropleth": [
                                            {
                                                "colorbar": {
                                                    "outlinewidth": 0,
                                                    "ticks": ""
                                                },
                                                "type": "choropleth"
                                            }
                                        ],
                                        "contour": [
                                            {
                                                "colorbar": {
                                                    "outlinewidth": 0,
                                                    "ticks": ""
                                                },
                                                "colorscale": [
                                                    [
                                                        0,
                                                        "#0d0887"
                                                    ],
                                                    [
                                                        0.1111111111111111,
                                                        "#46039f"
                                                    ],
                                                    [
                                                        0.2222222222222222,
                                                        "#7201a8"
                                                    ],
                                                    [
                                                        0.3333333333333333,
                                                        "#9c179e"
                                                    ],
                                                    [
                                                        0.4444444444444444,
                                                        "#bd3786"
                                                    ],
                                                    [
                                                        0.5555555555555556,
                                                        "#d8576b"
                                                    ],
                                                    [
                                                        0.6666666666666666,
                                                        "#ed7953"
                                                    ],
                                                    [
                                                        0.7777777777777778,
                                                        "#fb9f3a"
                                                    ],
                                                    [
                                                        0.8888888888888888,
                                                        "#fdca26"
                                                    ],
                                                    [
                                                        1,
                                                        "#f0f921"
                                                    ]
                                                ],
                                                "type": "contour"
                                            }
                                        ],
                                        "contourcarpet": [
                                            {
                                                "colorbar": {
                                                    "outlinewidth": 0,
                                                    "ticks": ""
                                                },
                                                "type": "contourcarpet"
                                            }
                                        ],
                                        "heatmap": [
                                            {
                                                "colorbar": {
                                                    "outlinewidth": 0,
                                                    "ticks": ""
                                                },
                                                "colorscale": [
                                                    [
                                                        0,
                                                        "#0d0887"
                                                    ],
                                                    [
                                                        0.1111111111111111,
                                                        "#46039f"
                                                    ],
                                                    [
                                                        0.2222222222222222,
                                                        "#7201a8"
                                                    ],
                                                    [
                                                        0.3333333333333333,
                                                        "#9c179e"
                                                    ],
                                                    [
                                                        0.4444444444444444,
                                                        "#bd3786"
                                                    ],
                                                    [
                                                        0.5555555555555556,
                                                        "#d8576b"
                                                    ],
                                                    [
                                                        0.6666666666666666,
                                                        "#ed7953"
                                                    ],
                                                    [
                                                        0.7777777777777778,
                                                        "#fb9f3a"
                                                    ],
                                                    [
                                                        0.8888888888888888,
                                                        "#fdca26"
                                                    ],
                                                    [
                                                        1,
                                                        "#f0f921"
                                                    ]
                                                ],
                                                "type": "heatmap"
                                            }
                                        ],
                                        "heatmapgl": [
                                            {
                                                "colorbar": {
                                                    "outlinewidth": 0,
                                                    "ticks": ""
                                                },
                                                "colorscale": [
                                                    [
                                                        0,
                                                        "#0d0887"
                                                    ],
                                                    [
                                                        0.1111111111111111,
                                                        "#46039f"
                                                    ],
                                                    [
                                                        0.2222222222222222,
                                                        "#7201a8"
                                                    ],
                                                    [
                                                        0.3333333333333333,
                                                        "#9c179e"
                                                    ],
                                                    [
                                                        0.4444444444444444,
                                                        "#bd3786"
                                                    ],
                                                    [
                                                        0.5555555555555556,
                                                        "#d8576b"
                                                    ],
                                                    [
                                                        0.6666666666666666,
                                                        "#ed7953"
                                                    ],
                                                    [
                                                        0.7777777777777778,
                                                        "#fb9f3a"
                                                    ],
                                                    [
                                                        0.8888888888888888,
                                                        "#fdca26"
                                                    ],
                                                    [
                                                        1,
                                                        "#f0f921"
                                                    ]
                                                ],
                                                "type": "heatmapgl"
                                            }
                                        ],
                                        "histogram": [
                                            {
                                                "marker": {
                                                    "pattern": {
                                                        "fillmode": "overlay",
                                                        "size": 10,
                                                        "solidity": 0.2
                                                    }
                                                },
                                                "type": "histogram"
                                            }
                                        ],
                                        "histogram2d": [
                                            {
                                                "colorbar": {
                                                    "outlinewidth": 0,
                                                    "ticks": ""
                                                },
                                                "colorscale": [
                                                    [
                                                        0,
                                                        "#0d0887"
                                                    ],
                                                    [
                                                        0.1111111111111111,
                                                        "#46039f"
                                                    ],
                                                    [
                                                        0.2222222222222222,
                                                        "#7201a8"
                                                    ],
                                                    [
                                                        0.3333333333333333,
                                                        "#9c179e"
                                                    ],
                                                    [
                                                        0.4444444444444444,
                                                        "#bd3786"
                                                    ],
                                                    [
                                                        0.5555555555555556,
                                                        "#d8576b"
                                                    ],
                                                    [
                                                        0.6666666666666666,
                                                        "#ed7953"
                                                    ],
                                                    [
                                                        0.7777777777777778,
                                                        "#fb9f3a"
                                                    ],
                                                    [
                                                        0.8888888888888888,
                                                        "#fdca26"
                                                    ],
                                                    [
                                                        1,
                                                        "#f0f921"
                                                    ]
                                                ],
                                                "type": "histogram2d"
                                            }
                                        ],
                                        "histogram2dcontour": [
                                            {
                                                "colorbar": {
                                                    "outlinewidth": 0,
                                                    "ticks": ""
                                                },
                                                "colorscale": [
                                                    [
                                                        0,
                                                        "#0d0887"
                                                    ],
                                                    [
                                                        0.1111111111111111,
                                                        "#46039f"
                                                    ],
                                                    [
                                                        0.2222222222222222,
                                                        "#7201a8"
                                                    ],
                                                    [
                                                        0.3333333333333333,
                                                        "#9c179e"
                                                    ],
                                                    [
                                                        0.4444444444444444,
                                                        "#bd3786"
                                                    ],
                                                    [
                                                        0.5555555555555556,
                                                        "#d8576b"
                                                    ],
                                                    [
                                                        0.6666666666666666,
                                                        "#ed7953"
                                                    ],
                                                    [
                                                        0.7777777777777778,
                                                        "#fb9f3a"
                                                    ],
                                                    [
                                                        0.8888888888888888,
                                                        "#fdca26"
                                                    ],
                                                    [
                                                        1,
                                                        "#f0f921"
                                                    ]
                                                ],
                                                "type": "histogram2dcontour"
                                            }
                                        ],
                                        "mesh3d": [
                                            {
                                                "colorbar": {
                                                    "outlinewidth": 0,
                                                    "ticks": ""
                                                },
                                                "type": "mesh3d"
                                            }
                                        ],
                                        "parcoords": [
                                            {
                                                "line": {
                                                    "colorbar": {
                                                        "outlinewidth": 0,
                                                        "ticks": ""
                                                    }
                                                },
                                                "type": "parcoords"
                                            }
                                        ],
                                        "pie": [
                                            {
                                                "automargin": true,
                                                "type": "pie"
                                            }
                                        ],
                                        "scatter": [
                                            {
                                                "marker": {
                                                    "colorbar": {
                                                        "outlinewidth": 0,
                                                        "ticks": ""
                                                    }
                                                },
                                                "type": "scatter"
                                            }
                                        ],
                                        "scatter3d": [
                                            {
                                                "line": {
                                                    "colorbar": {
                                                        "outlinewidth": 0,
                                                        "ticks": ""
                                                    }
                                                },
                                                "marker": {
                                                    "colorbar": {
                                                        "outlinewidth": 0,
                                                        "ticks": ""
                                                    }
                                                },
                                                "type": "scatter3d"
                                            }
                                        ],
                                        "scattercarpet": [
                                            {
                                                "marker": {
                                                    "colorbar": {
                                                        "outlinewidth": 0,
                                                        "ticks": ""
                                                    }
                                                },
                                                "type": "scattercarpet"
                                            }
                                        ],
                                        "scattergeo": [
                                            {
                                                "marker": {
                                                    "colorbar": {
                                                        "outlinewidth": 0,
                                                        "ticks": ""
                                                    }
                                                },
                                                "type": "scattergeo"
                                            }
                                        ],
                                        "scattergl": [
                                            {
                                                "marker": {
                                                    "colorbar": {
                                                        "outlinewidth": 0,
                                                        "ticks": ""
                                                    }
                                                },
                                                "type": "scattergl"
                                            }
                                        ],
                                        "scattermapbox": [
                                            {
                                                "marker": {
                                                    "colorbar": {
                                                        "outlinewidth": 0,
                                                        "ticks": ""
                                                    }
                                                },
                                                "type": "scattermapbox"
                                            }
                                        ],
                                        "scatterpolar": [
                                            {
                                                "marker": {
                                                    "colorbar": {
                                                        "outlinewidth": 0,
                                                        "ticks": ""
                                                    }
                                                },
                                                "type": "scatterpolar"
                                            }
                                        ],
                                        "scatterpolargl": [
                                            {
                                                "marker": {
                                                    "colorbar": {
                                                        "outlinewidth": 0,
                                                        "ticks": ""
                                                    }
                                                },
                                                "type": "scatterpolargl"
                                            }
                                        ],
                                        "scatterternary": [
                                            {
                                                "marker": {
                                                    "colorbar": {
                                                        "outlinewidth": 0,
                                                        "ticks": ""
                                                    }
                                                },
                                                "type": "scatterternary"
                                            }
                                        ],
                                        "surface": [
                                            {
                                                "colorbar": {
                                                    "outlinewidth": 0,
                                                    "ticks": ""
                                                },
                                                "colorscale": [
                                                    [
                                                        0,
                                                        "#0d0887"
                                                    ],
                                                    [
                                                        0.1111111111111111,
                                                        "#46039f"
                                                    ],
                                                    [
                                                        0.2222222222222222,
                                                        "#7201a8"
                                                    ],
                                                    [
                                                        0.3333333333333333,
                                                        "#9c179e"
                                                    ],
                                                    [
                                                        0.4444444444444444,
                                                        "#bd3786"
                                                    ],
                                                    [
                                                        0.5555555555555556,
                                                        "#d8576b"
                                                    ],
                                                    [
                                                        0.6666666666666666,
                                                        "#ed7953"
                                                    ],
                                                    [
                                                        0.7777777777777778,
                                                        "#fb9f3a"
                                                    ],
                                                    [
                                                        0.8888888888888888,
                                                        "#fdca26"
                                                    ],
                                                    [
                                                        1,
                                                        "#f0f921"
                                                    ]
                                                ],
                                                "type": "surface"
                                            }
                                        ],
                                        "table": [
                                            {
                                                "cells": {
                                                    "fill": {
                                                        "color": "#EBF0F8"
                                                    },
                                                    "line": {
                                                        "color": "white"
                                                    }
                                                },
                                                "header": {
                                                    "fill": {
                                                        "color": "#C8D4E3"
                                                    },
                                                    "line": {
                                                        "color": "white"
                                                    }
                                                },
                                                "type": "table"
                                            }
                                        ]
                                    },
                                    "layout": {
                                        "annotationdefaults": {
                                            "arrowcolor": "#2a3f5f",
                                            "arrowhead": 0,
                                            "arrowwidth": 1
                                        },
                                        "autotypenumbers": "strict",
                                        "coloraxis": {
                                            "colorbar": {
                                                "outlinewidth": 0,
                                                "ticks": ""
                                            }
                                        },
                                        "colorscale": {
                                            "diverging": [
                                                [
                                                    0,
                                                    "#8e0152"
                                                ],
                                                [
                                                    0.1,
                                                    "#c51b7d"
                                                ],
                                                [
                                                    0.2,
                                                    "#de77ae"
                                                ],
                                                [
                                                    0.3,
                                                    "#f1b6da"
                                                ],
                                                [
                                                    0.4,
                                                    "#fde0ef"
                                                ],
                                                [
                                                    0.5,
                                                    "#f7f7f7"
                                                ],
                                                [
                                                    0.6,
                                                    "#e6f5d0"
                                                ],
                                                [
                                                    0.7,
                                                    "#b8e186"
                                                ],
                                                [
                                                    0.8,
                                                    "#7fbc41"
                                                ],
                                                [
                                                    0.9,
                                                    "#4d9221"
                                                ],
                                                [
                                                    1,
                                                    "#276419"
                                                ]
                                            ],
                                            "sequential": [
                                                [
                                                    0,
                                                    "#0d0887"
                                                ],
                                                [
                                                    0.1111111111111111,
                                                    "#46039f"
                                                ],
                                                [
                                                    0.2222222222222222,
                                                    "#7201a8"
                                                ],
                                                [
                                                    0.3333333333333333,
                                                    "#9c179e"
                                                ],
                                                [
                                                    0.4444444444444444,
                                                    "#bd3786"
                                                ],
                                                [
                                                    0.5555555555555556,
                                                    "#d8576b"
                                                ],
                                                [
                                                    0.6666666666666666,
                                                    "#ed7953"
                                                ],
                                                [
                                                    0.7777777777777778,
                                                    "#fb9f3a"
                                                ],
                                                [
                                                    0.8888888888888888,
                                                    "#fdca26"
                                                ],
                                                [
                                                    1,
                                                    "#f0f921"
                                                ]
                                            ],
                                            "sequentialminus": [
                                                [
                                                    0,
                                                    "#0d0887"
                                                ],
                                                [
                                                    0.1111111111111111,
                                                    "#46039f"
                                                ],
                                                [
                                                    0.2222222222222222,
                                                    "#7201a8"
                                                ],
                                                [
                                                    0.3333333333333333,
                                                    "#9c179e"
                                                ],
                                                [
                                                    0.4444444444444444,
                                                    "#bd3786"
                                                ],
                                                [
                                                    0.5555555555555556,
                                                    "#d8576b"
                                                ],
                                                [
                                                    0.6666666666666666,
                                                    "#ed7953"
                                                ],
                                                [
                                                    0.7777777777777778,
                                                    "#fb9f3a"
                                                ],
                                                [
                                                    0.8888888888888888,
                                                    "#fdca26"
                                                ],
                                                [
                                                    1,
                                                    "#f0f921"
                                                ]
                                            ]
                                        },
                                        "colorway": [
                                            "#636efa",
                                            "#EF553B",
                                            "#00cc96",
                                            "#ab63fa",
                                            "#FFA15A",
                                            "#19d3f3",
                                            "#FF6692",
                                            "#B6E880",
                                            "#FF97FF",
                                            "#FECB52"
                                        ],
                                        "font": {
                                            "color": "#2a3f5f"
                                        },
                                        "geo": {
                                            "bgcolor": "white",
                                            "lakecolor": "white",
                                            "landcolor": "#E5ECF6",
                                            "showlakes": true,
                                            "showland": true,
                                            "subunitcolor": "white"
                                        },
                                        "hoverlabel": {
                                            "align": "left"
                                        },
                                        "hovermode": "closest",
                                        "mapbox": {
                                            "style": "light"
                                        },
                                        "paper_bgcolor": "white",
                                        "plot_bgcolor": "#E5ECF6",
                                        "polar": {
                                            "angularaxis": {
                                                "gridcolor": "white",
                                                "linecolor": "white",
                                                "ticks": ""
                                            },
                                            "bgcolor": "#E5ECF6",
                                            "radialaxis": {
                                                "gridcolor": "white",
                                                "linecolor": "white",
                                                "ticks": ""
                                            }
                                        },
                                        "scene": {
                                            "xaxis": {
                                                "backgroundcolor": "#E5ECF6",
                                                "gridcolor": "white",
                                                "gridwidth": 2,
                                                "linecolor": "white",
                                                "showbackground": true,
                                                "ticks": "",
                                                "zerolinecolor": "white"
                                            },
                                            "yaxis": {
                                                "backgroundcolor": "#E5ECF6",
                                                "gridcolor": "white",
                                                "gridwidth": 2,
                                                "linecolor": "white",
                                                "showbackground": true,
                                                "ticks": "",
                                                "zerolinecolor": "white"
                                            },
                                            "zaxis": {
                                                "backgroundcolor": "#E5ECF6",
                                                "gridcolor": "white",
                                                "gridwidth": 2,
                                                "linecolor": "white",
                                                "showbackground": true,
                                                "ticks": "",
                                                "zerolinecolor": "white"
                                            }
                                        },
                                        "shapedefaults": {
                                            "line": {
                                                "color": "#2a3f5f"
                                            }
                                        },
                                        "ternary": {
                                            "aaxis": {
                                                "gridcolor": "white",
                                                "linecolor": "white",
                                                "ticks": ""
                                            },
                                            "baxis": {
                                                "gridcolor": "white",
                                                "linecolor": "white",
                                                "ticks": ""
                                            },
                                            "bgcolor": "#E5ECF6",
                                            "caxis": {
                                                "gridcolor": "white",
                                                "linecolor": "white",
                                                "ticks": ""
                                            }
                                        },
                                        "title": {
                                            "x": 0.05
                                        },
                                        "xaxis": {
                                            "automargin": true,
                                            "gridcolor": "white",
                                            "linecolor": "white",
                                            "ticks": "",
                                            "title": {
                                                "standoff": 15
                                            },
                                            "zerolinecolor": "white",
                                            "zerolinewidth": 2
                                        },
                                        "yaxis": {
                                            "automargin": true,
                                            "gridcolor": "white",
                                            "linecolor": "white",
                                            "ticks": "",
                                            "title": {
                                                "standoff": 15
                                            },
                                            "zerolinecolor": "white",
                                            "zerolinewidth": 2
                                        }
                                    }
                                },
                                "title": {
                                    "text": "Firms by Size"
                                },
                                "xaxis": {
                                    "anchor": "y",
                                    "domain": [
                                        0,
                                        1
                                    ],
                                    "title": {
                                        "text": "Firm Size"
                                    }
                                },
                                "yaxis": {
                                    "anchor": "x",
                                    "domain": [
                                        0,
                                        1
                                    ],
                                    "title": {
                                        "text": "Total Firms"
                                    }
                                }
                            }
                        }
                    },
                    "metadata": {}
                }
            ],
            "source": [
                "from natsort import index_natsorted, order_by_index\n",
                "\n",
                "tech_cleanedx['EMPSZFI_LABEL'] = tech_cleanedx['EMPSZFI_LABEL'].replace(['Firms with no employees'],'Firms with 0 employees')\n",
                "tech_cleanedx = tech_cleanedx.reindex(index=order_by_index(tech_cleanedx.index, index_natsorted(tech_cleanedx['EMPSZFI_LABEL'], reverse=False)))\n",
                "\n",
                "fig4 = px.line(tech_cleanedx,x='EMPSZFI_LABEL',y='FIRMPDEMP',orientation='v',\n",
                "    labels = {\n",
                "        \"FIRMPDEMP\":\"Total Firms\",\n",
                "        \"EMPSZFI_LABEL\" : \"Firm Size\"\n",
                "    },\n",
                "    title='Firms by Size')\n",
                "fig4.show()"
            ]
        },
        {
            "cell_type": "code",
            "execution_count": null,
            "metadata": {},
            "outputs": [],
            "source": []
        }
    ]
}